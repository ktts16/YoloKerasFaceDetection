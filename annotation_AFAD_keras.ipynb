{
 "cells": [
  {
   "cell_type": "code",
   "execution_count": null,
   "metadata": {},
   "outputs": [],
   "source": [
    "from utils import get_local_dataset_root_path\n",
    "\n",
    "DATASET_ROOT_PATH=get_local_dataset_root_path()\n",
    "print(DATASET_ROOT_PATH)\n",
    "\n",
    "OUTPUT_LABEL=\"agegender_afad\"\n",
    "\n",
    "SRC_PATH=DATASET_ROOT_PATH+\"dataset/AFAD-Full/\" #** AFAD **\n",
    "GENDER_PATH=DATASET_ROOT_PATH+\"dataset/\"+OUTPUT_LABEL+\"/annotations/gender/\"\n",
    "AGE101_PATH=DATASET_ROOT_PATH+\"dataset/\"+OUTPUT_LABEL+\"/annotations/age101/\""
   ]
  },
  {
   "cell_type": "markdown",
   "metadata": {},
   "source": [
    "### Create directories"
   ]
  },
  {
   "cell_type": "code",
   "execution_count": null,
   "metadata": {},
   "outputs": [],
   "source": [
    "import os\n",
    "import shutil\n",
    "from utils import create_subfolders_by_classes, print_list, list_files"
   ]
  },
  {
   "cell_type": "code",
   "execution_count": null,
   "metadata": {},
   "outputs": [],
   "source": [
    "if(not os.path.exists(DATASET_ROOT_PATH+\"dataset/\"+OUTPUT_LABEL+\"/\")):\n",
    "    os.mkdir(DATASET_ROOT_PATH+\"dataset/\"+OUTPUT_LABEL)\n",
    "\n",
    "if(not os.path.exists(DATASET_ROOT_PATH+\"dataset/\"+OUTPUT_LABEL+\"/annotations/\")):\n",
    "    os.mkdir(DATASET_ROOT_PATH+\"dataset/\"+OUTPUT_LABEL+\"/annotations\")\n",
    "    \n",
    "create_subfolders_by_classes(GENDER_PATH, \\\n",
    "                             classes='gender', \\\n",
    "                             subsets=['all'])\n",
    "create_subfolders_by_classes(AGE101_PATH, \\\n",
    "                             classes='age', \\\n",
    "                             subsets=['all'])"
   ]
  },
  {
   "cell_type": "code",
   "execution_count": null,
   "metadata": {},
   "outputs": [],
   "source": [
    "def get_afad_rel_file_list(dataset_root_path, image_file_ext='jpg'):\n",
    "    file_list = [(tuple(path.rsplit('/',2))[1:] + (filename,)) \\\n",
    "                 for path, filename in list_files(dataset_root_path) \\\n",
    "                 if \".\" + image_file_ext in filename]\n",
    "    file_list.sort()\n",
    "    return file_list\n",
    "\n",
    "# def get_afad_folders_age(dataset_root_path):\n",
    "#     folders_age = os.listdir(dataset_root_path)\n",
    "#     folders_age = [f for f in folders_age if f.isdigit() and len(f) == 2]\n",
    "#     folders_age.sort()\n",
    "#     return folders_age"
   ]
  },
  {
   "cell_type": "code",
   "execution_count": null,
   "metadata": {},
   "outputs": [],
   "source": [
    "file_list = get_afad_rel_file_list(SRC_PATH)\n",
    "print_list(file_list)"
   ]
  },
  {
   "cell_type": "code",
   "execution_count": null,
   "metadata": {},
   "outputs": [],
   "source": [
    "# copy files for gender subset\n",
    "verbose = False\n",
    "# verbose = True\n",
    "\n",
    "afad_map_gender_folder_class = {'111': 'm', '112': 'f'}\n",
    "# print(afad_map_gender_folder_class)\n",
    "\n",
    "for i in range(len(file_list)):\n",
    "    subset=\"all\"\n",
    "    f_age, f_gender, filename = file_list[i]\n",
    "    src_img = os.path.join(SRC_PATH, f_age, f_gender, filename)\n",
    "    label_gender = afad_map_gender_folder_class[f_gender]\n",
    "    label_age101 = '0' + f_age\n",
    "    if verbose:\n",
    "        print(\"{}\\n{} {}\".format(src_img, label_gender, label_age101))\n",
    "    shutil.copyfile(src_img, GENDER_PATH+subset+\"/\"+label_gender+\"/\"+str(i)+\".jpg\")\n",
    "    shutil.copyfile(src_img, AGE101_PATH+subset+\"/\"+label_age101+\"/\"+str(i)+\".jpg\")\n",
    "    if i % 2000 == 0:\n",
    "        print(i, end='\\n' if i%10000==0 else '   ')"
   ]
  },
  {
   "cell_type": "code",
   "execution_count": null,
   "metadata": {},
   "outputs": [],
   "source": []
  }
 ],
 "metadata": {
  "kernelspec": {
   "display_name": "Python 3",
   "language": "python",
   "name": "python3"
  },
  "language_info": {
   "codemirror_mode": {
    "name": "ipython",
    "version": 3
   },
   "file_extension": ".py",
   "mimetype": "text/x-python",
   "name": "python",
   "nbconvert_exporter": "python",
   "pygments_lexer": "ipython3",
   "version": "3.6.8"
  }
 },
 "nbformat": 4,
 "nbformat_minor": 2
}
