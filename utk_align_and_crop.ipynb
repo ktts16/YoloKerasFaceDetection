{
 "cells": [
  {
   "cell_type": "markdown",
   "metadata": {},
   "source": [
    "## Align & crop faces"
   ]
  },
  {
   "cell_type": "code",
   "execution_count": null,
   "metadata": {},
   "outputs": [],
   "source": [
    "import csv"
   ]
  },
  {
   "cell_type": "code",
   "execution_count": null,
   "metadata": {},
   "outputs": [],
   "source": [
    "#note: add index: 9392, 14178, 20271, ...\n",
    "\n",
    "filenames_skip = []\n",
    "with open(\"utkface_filenames_skip.txt\", \"r\") as f:\n",
    "    reader = csv.reader(f,delimiter='\\n')\n",
    "    try:\n",
    "        filenames_skip = [row[0] for row in reader]\n",
    "    except csv.Error as e:\n",
    "        print(e)\n",
    "\n",
    "print(len(filenames_skip))\n",
    "print(filenames_skip[-6:])"
   ]
  },
  {
   "cell_type": "code",
   "execution_count": null,
   "metadata": {},
   "outputs": [],
   "source": [
    "from skimage import transform as trans\n",
    "from mtcnn.mtcnn import MTCNN\n",
    "import cv2\n",
    "import numpy as np\n",
    "import matplotlib.pyplot as plt\n",
    "from panya_s.utils import align_with_margin\n",
    "\n",
    "import os"
   ]
  },
  {
   "cell_type": "code",
   "execution_count": null,
   "metadata": {},
   "outputs": [],
   "source": [
    "img_path = \"/home/krittametht/dataset/UTKFace_inthewild/\"\n",
    "out_path = \"/home/krittametht/dataset/UTKFace_crop_m-4/\"\n",
    "\n",
    "filenames = os.listdir(img_path)\n",
    "print('# files:', len(filenames))\n",
    "\n",
    "fi_skip = [filenames.index(f) for f in filenames_skip]    \n",
    "print('len(fi_skip):', len(fi_skip))"
   ]
  },
  {
   "cell_type": "code",
   "execution_count": null,
   "metadata": {
    "scrolled": true
   },
   "outputs": [],
   "source": [
    "return_box = False\n",
    "# return_box = True\n",
    "needPlot = False\n",
    "# needPlot = True\n",
    "needSkip = False\n",
    "\n",
    "needSave = True\n",
    "\n",
    "for fi in range(0,len(filenames)):\n",
    "# for fi in fi_skip: ## for images with width > 1000\n",
    "\n",
    "    if needSkip and fi in fi_skip:\n",
    "        print('\\n skip: index:', fi, 'filename:', filenames[fi])\n",
    "        continue\n",
    "\n",
    "    img_name = filenames[fi]\n",
    "    img = cv2.imread(os.path.join(img_path, img_name))[...,::-1]\n",
    "    \n",
    "    height, width, depth = img.shape\n",
    "    W = 1000.\n",
    "    if width > 1000:\n",
    "        imgScale = W/width\n",
    "        newX,newY = img.shape[1]*imgScale, img.shape[0]*imgScale\n",
    "        newimg = cv2.resize(img,(int(newX),int(newY)))\n",
    "        img = newimg\n",
    "    \n",
    "    output = align_with_margin(img, output_image_size=227, m=0.4, return_box=return_box)\n",
    "    if type(output) is str:\n",
    "        print('\\n', img_name, '\\t', output)\n",
    "    else:\n",
    "        warped, newsrc, newbox = output\n",
    "        if needSave:\n",
    "            cv2.imwrite(os.path.join(out_path, img_name + \"_m-4.jpg\"), cv2.cvtColor(warped, cv2.COLOR_BGR2RGB))\n",
    "#             print(os.path.join(out_path, img_name + \"_m-4.jpg\"))\n",
    "        if needPlot and newbox is not None:\n",
    "            plt.imshow(image_with_box_and_points(warped, newsrc.astype(int), highlight_color = (255,155,0), \n",
    "                                             box = [newbox[0,0],newbox[0,1],newbox[-1,0]-newbox[0,0],newbox[-1,1]-newbox[0,1]]))\n",
    "    if fi % 10 == 0:    print(fi, end = '\\t')"
   ]
  }
 ],
 "metadata": {
  "kernelspec": {
   "display_name": "Python 3",
   "language": "python",
   "name": "python3"
  },
  "language_info": {
   "codemirror_mode": {
    "name": "ipython",
    "version": 3
   },
   "file_extension": ".py",
   "mimetype": "text/x-python",
   "name": "python",
   "nbconvert_exporter": "python",
   "pygments_lexer": "ipython3",
   "version": "3.6.8"
  }
 },
 "nbformat": 4,
 "nbformat_minor": 2
}
