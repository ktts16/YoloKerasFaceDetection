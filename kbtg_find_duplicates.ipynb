{
 "cells": [
  {
   "cell_type": "code",
   "execution_count": null,
   "metadata": {},
   "outputs": [],
   "source": [
    "import os\n",
    "import shutil\n",
    "import matplotlib.pyplot as plt\n",
    "import numpy as np\n",
    "from PIL import Image"
   ]
  },
  {
   "cell_type": "code",
   "execution_count": null,
   "metadata": {},
   "outputs": [],
   "source": [
    "import collections\n",
    "\n",
    "def duplicates(ls):\n",
    "    return [item for item, count in collections.Counter(ls).items() if count > 1]\n",
    "\n",
    "# a = [1,2,3,2,1,5,6,5,5,5]\n",
    "# print(duplicates(a))\n",
    "\n",
    "# >> show images\n",
    "def images_plot(images, titles=None, rows=1, columns=2):\n",
    "    fig=plt.figure(figsize=(4, 4))\n",
    "    for i in range(1, columns*rows +1):\n",
    "        fig.add_subplot(rows, columns, i)\n",
    "        plt.imshow(images[i-1])\n",
    "        ax = fig.gca()\n",
    "        ax.set_axis_off()\n",
    "        if titles is not None:\n",
    "            ax.title.set_text(titles[i-1])\n",
    "    plt.show()\n",
    "\n",
    "    \n",
    "def open_images(path, filenames):\n",
    "    return [Image.open(os.path.join(path, f)) for f in filenames]"
   ]
  },
  {
   "cell_type": "markdown",
   "metadata": {},
   "source": [
    "## Move files into the same folder"
   ]
  },
  {
   "cell_type": "code",
   "execution_count": null,
   "metadata": {},
   "outputs": [],
   "source": [
    "dataset_path = \"/home/krittametht/dataset/KBTG_employee_photo_2018-07-23\""
   ]
  },
  {
   "cell_type": "code",
   "execution_count": null,
   "metadata": {},
   "outputs": [],
   "source": [
    "subfolders = [p for p in os.listdir(dataset_path) if os.path.isdir(os.path.join(dataset_path, p))]\n",
    "print(subfolders)\n",
    "\n",
    "for s in subfolders:\n",
    "    src = os.path.join(dataset_path, s)\n",
    "    dst = dataset_path\n",
    "    for f in os.listdir(src):\n",
    "        shutil.move(os.path.join(src,f), dst)"
   ]
  },
  {
   "cell_type": "markdown",
   "metadata": {},
   "source": [
    "## Get sizes (bytes) of all files"
   ]
  },
  {
   "cell_type": "code",
   "execution_count": null,
   "metadata": {},
   "outputs": [],
   "source": [
    "files = [f for f in os.listdir(dataset_path) if os.path.isfile(os.path.join(dataset_path, f)) ]\n",
    "sizes = []\n",
    "for f in files:\n",
    "    sizes.append(os.path.getsize(os.path.join(dataset_path, f)))\n",
    "\n",
    "print(len(files), len(sizes))"
   ]
  },
  {
   "cell_type": "code",
   "execution_count": null,
   "metadata": {},
   "outputs": [],
   "source": [
    "# Find duplicates and list corresponding file names\n",
    "dup = duplicates(sizes)\n",
    "print(len(dup))"
   ]
  },
  {
   "cell_type": "code",
   "execution_count": null,
   "metadata": {},
   "outputs": [],
   "source": [
    "for item in dup:\n",
    "    indices = [i for i, x in enumerate(sizes) if x == item]\n",
    "    sel_files = [files[i] for i in indices]\n",
    "    sel_files_i = [int(f[:-4]) for f in sel_files]\n",
    "#     print('\\t'.join(sel_files))\n",
    "    print(min(sel_files_i))"
   ]
  },
  {
   "cell_type": "code",
   "execution_count": null,
   "metadata": {},
   "outputs": [],
   "source": [
    "kk = 0"
   ]
  },
  {
   "cell_type": "code",
   "execution_count": null,
   "metadata": {
    "scrolled": false
   },
   "outputs": [],
   "source": [
    "item = dup[kk]\n",
    "for item in dup:\n",
    "    indices = [i for i, x in enumerate(sizes) if x == item]\n",
    "    sel_files = [files[i] for i in indices]\n",
    "    # print(sel_files)\n",
    "    images_plot(open_images(dataset_path, sel_files), sel_files)\n",
    "    kk = kk + 1"
   ]
  },
  {
   "cell_type": "code",
   "execution_count": null,
   "metadata": {},
   "outputs": [],
   "source": [
    "kk"
   ]
  },
  {
   "cell_type": "code",
   "execution_count": null,
   "metadata": {},
   "outputs": [],
   "source": [
    "# After manually checking candidates for duplicates\n",
    "# Move one of duplicates (minimum index of the two) (move to separate folder)\n",
    "files_to_move = [965437, 965557, 965607, 960087, 960055, 962022, 965453, 960083, 965194, 960058, 965559, 962140, 960061, 960032, 965615, 961029, 965493, 960084, 965520, 965515, 965209, 961028]\n",
    "new_folder = 'duplicates'\n",
    "\n",
    "src = dataset_path\n",
    "dst = os.path.join(dataset_path, new_folder)\n",
    "if not os.path.exists(dst):\n",
    "    os.makedirs(dst)\n",
    "\n",
    "for f in files_to_move:\n",
    "    shutil.move(os.path.join(src,str(f)+'.jpg'), dst)"
   ]
  },
  {
   "cell_type": "code",
   "execution_count": null,
   "metadata": {},
   "outputs": [],
   "source": [
    "# Get image size\n",
    "files_2 = [f for f in os.listdir(dataset_path) if os.path.isfile(os.path.join(dataset_path, f)) ]\n",
    "\n",
    "min_w = 227 \n",
    "min_h = 227\n",
    "imgsizes = []\n",
    "small_image_indices = []\n",
    "for ii, f in enumerate(files_2):\n",
    "    im = Image.open(os.path.join(dataset_path, f))\n",
    "    width, height = im.size\n",
    "    imgsizes.append((width, height))\n",
    "    if width < min_w or height < min_h:\n",
    "        small_image_indices.append(ii)\n",
    "\n",
    "print(len(files_2))\n",
    "print(len(imgsizes))\n",
    "print(imgsizes[:10])\n",
    "print(small_image_indices)\n",
    "for ind in small_image_indices:\n",
    "    print(ind, files_2[ind], imgsizes[ind])"
   ]
  },
  {
   "cell_type": "code",
   "execution_count": null,
   "metadata": {},
   "outputs": [],
   "source": []
  }
 ],
 "metadata": {
  "kernelspec": {
   "display_name": "Python 3",
   "language": "python",
   "name": "python3"
  },
  "language_info": {
   "codemirror_mode": {
    "name": "ipython",
    "version": 3
   },
   "file_extension": ".py",
   "mimetype": "text/x-python",
   "name": "python",
   "nbconvert_exporter": "python",
   "pygments_lexer": "ipython3",
   "version": "3.6.8"
  }
 },
 "nbformat": 4,
 "nbformat_minor": 2
}
