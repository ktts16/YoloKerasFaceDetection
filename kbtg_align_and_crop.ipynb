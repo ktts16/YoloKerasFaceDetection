{
 "cells": [
  {
   "cell_type": "markdown",
   "metadata": {},
   "source": [
    "## Align & crop faces"
   ]
  },
  {
   "cell_type": "code",
   "execution_count": null,
   "metadata": {},
   "outputs": [],
   "source": [
    "from skimage import transform as trans\n",
    "from mtcnn.mtcnn import MTCNN\n",
    "import cv2\n",
    "import numpy as np\n",
    "import matplotlib.pyplot as plt\n",
    "from panya_s.utils import align_with_margin\n",
    "from utils import get_local_dataset_root_path\n",
    "\n",
    "import os"
   ]
  },
  {
   "cell_type": "code",
   "execution_count": null,
   "metadata": {},
   "outputs": [],
   "source": [
    "classname = 'm'\n",
    "# classname = 'f'\n",
    "\n",
    "img_path = os.path.join(get_local_dataset_root_path(), \"dataset/KBTG_staff_photo_resize/defined\", classname)\n",
    "out_path = os.path.join(get_local_dataset_root_path(), \"dataset/KBTG_staff_photo_resize/defined_crop_m-4\", classname)\n",
    "print(img_path, '\\n', out_path)\n",
    "\n",
    "filenames = os.listdir(img_path)\n",
    "print('# files:', len(filenames))"
   ]
  },
  {
   "cell_type": "code",
   "execution_count": null,
   "metadata": {
    "scrolled": true
   },
   "outputs": [],
   "source": [
    "return_box = False\n",
    "# return_box = True\n",
    "needPlot = False\n",
    "# needPlot = True\n",
    "needSkip = False\n",
    "\n",
    "needSave = True\n",
    "\n",
    "for fi in range(0,len(filenames)):\n",
    "    img_name = filenames[fi]\n",
    "    img = cv2.imread(os.path.join(img_path, img_name))[...,::-1]\n",
    "    \n",
    "    height, width, depth = img.shape\n",
    "    W = 1000.\n",
    "    if width > 1000:\n",
    "        imgScale = W/width\n",
    "        newX,newY = img.shape[1]*imgScale, img.shape[0]*imgScale\n",
    "        newimg = cv2.resize(img,(int(newX),int(newY)))\n",
    "        img = newimg\n",
    "    \n",
    "    output = align_with_margin(img, output_image_size=227, m=0.4, return_box=return_box)\n",
    "    if type(output) is str:\n",
    "        print('\\n', img_name, '\\t', output)\n",
    "    else:\n",
    "        warped, newsrc, newbox = output\n",
    "        if needSave:\n",
    "            cv2.imwrite(os.path.join(out_path, img_name + \"_m-4.jpg\"), cv2.cvtColor(warped, cv2.COLOR_BGR2RGB))\n",
    "#             print(os.path.join(out_path, img_name + \"_m-4.jpg\"))\n",
    "        if needPlot and newbox is not None:\n",
    "            plt.imshow(image_with_box_and_points(warped, newsrc.astype(int), highlight_color = (255,155,0), \n",
    "                                             box = [newbox[0,0],newbox[0,1],newbox[-1,0]-newbox[0,0],newbox[-1,1]-newbox[0,1]]))\n",
    "    if fi % 10 == 0:    print(fi, end = '\\t')"
   ]
  },
  {
   "cell_type": "code",
   "execution_count": null,
   "metadata": {},
   "outputs": [],
   "source": [
    "print(fi)"
   ]
  }
 ],
 "metadata": {
  "kernelspec": {
   "display_name": "Python 3",
   "language": "python",
   "name": "python3"
  },
  "language_info": {
   "codemirror_mode": {
    "name": "ipython",
    "version": 3
   },
   "file_extension": ".py",
   "mimetype": "text/x-python",
   "name": "python",
   "nbconvert_exporter": "python",
   "pygments_lexer": "ipython3",
   "version": "3.6.8"
  }
 },
 "nbformat": 4,
 "nbformat_minor": 2
}
