{
 "cells": [
  {
   "cell_type": "markdown",
   "metadata": {},
   "source": [
    "## Clean IMDB : age data\n",
    "\n",
    "**Source:** annotation_imdb_keras.py"
   ]
  },
  {
   "cell_type": "code",
   "execution_count": null,
   "metadata": {},
   "outputs": [],
   "source": [
    "import importlib\n",
    "import utils_imdb"
   ]
  },
  {
   "cell_type": "code",
   "execution_count": null,
   "metadata": {},
   "outputs": [],
   "source": [
    "importlib.reload(utils_imdb)"
   ]
  },
  {
   "cell_type": "code",
   "execution_count": null,
   "metadata": {},
   "outputs": [],
   "source": [
    "imdb_data = utils_imdb.IMDBDataSet()"
   ]
  },
  {
   "cell_type": "code",
   "execution_count": null,
   "metadata": {},
   "outputs": [],
   "source": [
    "print(imdb_data.IMDB_PATH)\n",
    "print(imdb_data.column_names)"
   ]
  },
  {
   "cell_type": "code",
   "execution_count": null,
   "metadata": {},
   "outputs": [],
   "source": [
    "# Convert to pandas DataFrame\n",
    "imdb_data.to_pandas_dataframe(verbose=True)"
   ]
  },
  {
   "cell_type": "code",
   "execution_count": null,
   "metadata": {},
   "outputs": [],
   "source": [
    "print(\"shape:\\t\", imdb_data.meta_df.shape)\n",
    "# print(imdb_data.meta_df)"
   ]
  },
  {
   "cell_type": "code",
   "execution_count": null,
   "metadata": {},
   "outputs": [],
   "source": [
    "imdb_data.calculate_age()"
   ]
  },
  {
   "cell_type": "code",
   "execution_count": null,
   "metadata": {},
   "outputs": [],
   "source": [
    "imdb_data.is_image_valid()"
   ]
  },
  {
   "cell_type": "markdown",
   "metadata": {},
   "source": [
    "###  Check if values of all rows are equal\n",
    "Compare: numpy.ndarray vs. pandas.DataFrame column"
   ]
  },
  {
   "cell_type": "code",
   "execution_count": null,
   "metadata": {},
   "outputs": [],
   "source": [
    "full_path = imdb_data.meta[\"full_path\"][0]\n",
    "dob = imdb_data.meta[\"dob\"][0]\n",
    "gender = imdb_data.meta[\"gender\"][0]\n",
    "photo_taken = imdb_data.meta[\"photo_taken\"][0]\n",
    "face_score = imdb_data.meta[\"face_score\"][0]\n",
    "second_face_score = imdb_data.meta[\"second_face_score\"][0]\n",
    "name = imdb_data.meta[\"name\"][0]\n",
    "age = [utils_imdb.calc_age(photo_taken[i], dob[i]) for i in range(len(dob))]\n",
    "\n",
    "# find index of valid images\n",
    "valid = []\n",
    "for i in range(len(full_path)):\n",
    "    if(utils_imdb.is_valid(face_score[i],second_face_score[i],age[i],gender[i])):\n",
    "        valid.append(i)"
   ]
  },
  {
   "cell_type": "code",
   "execution_count": null,
   "metadata": {},
   "outputs": [],
   "source": [
    "from utils import is_equal_to_df_column"
   ]
  },
  {
   "cell_type": "code",
   "execution_count": null,
   "metadata": {},
   "outputs": [],
   "source": [
    "# Check if values of all rows are equal\n",
    "check_column_names = ['age', 'dob', 'gender', 'photo_taken', 'face_score', 'second_face_score']\n",
    "for column_name in check_column_names:\n",
    "    is_equal, _, index_not_equal = is_equal_to_df_column(globals()[column_name], imdb_data.meta_df[column_name])\n",
    "    print(column_name, is_equal, sep='\\t', end='\\t' if len(index_not_equal) else '\\n')\n",
    "    if len(index_not_equal):\n",
    "        print(index_not_equal[:10], len(index_not_equal), sep='\\t')"
   ]
  },
  {
   "cell_type": "code",
   "execution_count": null,
   "metadata": {},
   "outputs": [],
   "source": [
    "# Compare valid and imdb_data.valid\n",
    "print('len:', len(valid), len(imdb_data.valid), sep='\\t')\n",
    "print('is equal?:', valid == imdb_data.valid, sep='\\t')\n",
    "print(valid[:20], imdb_data.valid[:20], sep='\\n')"
   ]
  },
  }
 ],
 "metadata": {
  "kernelspec": {
   "display_name": "Python 3",
   "language": "python",
   "name": "python3"
  },
  "language_info": {
   "codemirror_mode": {
    "name": "ipython",
    "version": 3
   },
   "file_extension": ".py",
   "mimetype": "text/x-python",
   "name": "python",
   "nbconvert_exporter": "python",
   "pygments_lexer": "ipython3",
   "version": "3.6.8"
  }
 },
 "nbformat": 4,
 "nbformat_minor": 2
}
