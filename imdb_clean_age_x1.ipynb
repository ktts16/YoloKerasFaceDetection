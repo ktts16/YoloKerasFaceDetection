{
 "cells": [
  {
   "cell_type": "markdown",
   "metadata": {},
   "source": [
    "## Clean IMDB : age data\n",
    "\n",
    "**Source:** annotation_imdb_keras.py"
   ]
  },
  {
   "cell_type": "code",
   "execution_count": null,
   "metadata": {},
   "outputs": [],
   "source": [
    "import importlib\n",
    "import utils_imdb"
   ]
  },
  {
   "cell_type": "code",
   "execution_count": null,
   "metadata": {},
   "outputs": [],
   "source": [
    "importlib.reload(utils_imdb)"
   ]
  },
  {
   "cell_type": "code",
   "execution_count": null,
   "metadata": {},
   "outputs": [],
   "source": [
    "imdb_data = utils_imdb.IMDBDataSet()"
   ]
  },
  {
   "cell_type": "code",
   "execution_count": null,
   "metadata": {},
   "outputs": [],
   "source": [
    "print(imdb_data.IMDB_PATH)\n",
    "print(imdb_data.column_names)"
   ]
  },
  {
   "cell_type": "code",
   "execution_count": null,
   "metadata": {},
   "outputs": [],
   "source": [
    "# Convert to pandas DataFrame\n",
    "imdb_data.to_pandas_dataframe(verbose=True)"
   ]
  },
  {
   "cell_type": "code",
   "execution_count": null,
   "metadata": {},
   "outputs": [],
   "source": [
    "print(\"shape:\\t\", imdb_data.meta_df.shape)\n",
    "# print(imdb_data.meta_df)"
   ]
  },
  {
   "cell_type": "code",
   "execution_count": null,
   "metadata": {},
   "outputs": [],
   "source": [
    "imdb_data.calculate_age()"
   ]
  },
  {
   "cell_type": "code",
   "execution_count": null,
   "metadata": {},
   "outputs": [],
   "source": [
    "imdb_data.is_image_valid()"
   ]
  },
  {
   "cell_type": "markdown",
   "metadata": {},
   "source": [
    "###  Check if values of all rows are equal\n",
    "Compare: numpy.ndarray vs. pandas.DataFrame column"
   ]
  },
  {
   "cell_type": "code",
   "execution_count": null,
   "metadata": {},
   "outputs": [],
   "source": [
    "full_path = imdb_data.meta[\"full_path\"][0]\n",
    "dob = imdb_data.meta[\"dob\"][0]\n",
    "gender = imdb_data.meta[\"gender\"][0]\n",
    "photo_taken = imdb_data.meta[\"photo_taken\"][0]\n",
    "face_score = imdb_data.meta[\"face_score\"][0]\n",
    "second_face_score = imdb_data.meta[\"second_face_score\"][0]\n",
    "name = imdb_data.meta[\"name\"][0]\n",
    "age = [utils_imdb.calc_age(photo_taken[i], dob[i]) for i in range(len(dob))]\n",
    "\n",
    "# find index of valid images\n",
    "valid = []\n",
    "for i in range(len(full_path)):\n",
    "    if(utils_imdb.is_valid(face_score[i],second_face_score[i],age[i],gender[i])):\n",
    "        valid.append(i)"
   ]
  },
  {
   "cell_type": "code",
   "execution_count": null,
   "metadata": {},
   "outputs": [],
   "source": [
    "from utils import is_equal_to_df_column"
   ]
  },
  {
   "cell_type": "code",
   "execution_count": null,
   "metadata": {},
   "outputs": [],
   "source": [
    "# Check if values of all rows are equal\n",
    "check_column_names = ['age', 'dob', 'gender', 'photo_taken', 'face_score', 'second_face_score']\n",
    "for column_name in check_column_names:\n",
    "    is_equal, _, index_not_equal = is_equal_to_df_column(globals()[column_name], imdb_data.meta_df[column_name])\n",
    "    print(column_name, is_equal, sep='\\t', end='\\t' if len(index_not_equal) else '\\n')\n",
    "    if len(index_not_equal):\n",
    "        print(index_not_equal[:10], len(index_not_equal), sep='\\t')"
   ]
  },
  {
   "cell_type": "code",
   "execution_count": null,
   "metadata": {},
   "outputs": [],
   "source": [
    "# Compare valid and imdb_data.valid\n",
    "print('len:', len(valid), len(imdb_data.valid), sep='\\t')\n",
    "print('is equal?:', valid == imdb_data.valid, sep='\\t')\n",
    "print(valid[:20], imdb_data.valid[:20], sep='\\n')"
   ]
  },
  {
   "cell_type": "markdown",
   "metadata": {},
   "source": [
    "## IMDB : cleaning of age labels\n",
    "* nameID    nm...\n",
    "* imageID   rm...\n",
    "\n",
    "### Step 1: get unique imageID (rm id) from: full_path of path: imdb_crop\n",
    "= get dict which groups images by imageID"
   ]
  },
  {
   "cell_type": "code",
   "execution_count": null,
   "metadata": {},
   "outputs": [],
   "source": [
    "images = utils_imdb.image_groups_by_rm_id(set(valid), imdb_data.meta_df.full_path.to_list())\n",
    "\n",
    "print('len(full_path)', len(full_path), sep=':\\t')\n",
    "print('len(valid)', len(valid), sep=':\\t')\n",
    "print('len(images)', len(images), sep=':\\t')"
   ]
  },
  {
   "cell_type": "markdown",
   "metadata": {},
   "source": [
    "### Step 2: check duplicate images in each group\n",
    "\n",
    "For images in each group, check if they are duplicate.\n",
    "\n",
    "Source: https://stackoverflow.com/questions/51688179/check-if-there-is-exactly-the-same-image-as-input-image"
   ]
  },
  {
   "cell_type": "code",
   "execution_count": null,
   "metadata": {},
   "outputs": [],
   "source": [
    "import os\n",
    "import utils\n",
    "import utils_csv"
   ]
  },
  {
   "cell_type": "code",
   "execution_count": null,
   "metadata": {},
   "outputs": [],
   "source": [
    "importlib.reload(utils)\n",
    "importlib.reload(utils_csv)"
   ]
  },
   "cell_type": "code",
   "execution_count": null,
   "metadata": {
    "scrolled": true
   },
  {
   "cell_type": "code",
   "execution_count": null,
   "metadata": {},
   "outputs": [],
   "source": [
    "# *** Warning *** Use with IMDB gender data set only\n",
    "# Remove duplicate images annotated with YoloKerasFaceDetection\n",
    "\n",
    "do_imdb_gender_remove_duplicate = True\n",
    "# do_imdb_gender_remove_duplicate = False\n",
    "\n",
    "do_move_files = False\n",
    "\n",
    "do_write_csv = True\n",
    "\n",
    "debug = False\n",
    "# debug = True\n",
    "verbose = True\n",
    "\n",
    "ext = \"jpg\"\n",
    "annotated_path = \"/home/krittametht/dataset/agegender_imdb/annotations/gender\"\n",
    "duplicate_path = annotated_path+\"_duplicate\"\n",
    "\n",
    "if do_imdb_gender_remove_duplicate:\n",
    "    utils_csv.prepare_csv_path()\n",
    "    csv_filepath = './csv/gender_duplicate.csv'\n",
    "    utils_csv.overwrite_and_clear_content(csv_filepath)"
   ]
  },
  {
   "cell_type": "code",
   "execution_count": null,
   "metadata": {
    "scrolled": true
   },
   "outputs": [],
   "source": [
    "if do_imdb_gender_remove_duplicate:\n",
    "    if verbose:\n",
    "        print('src path', annotated_path, sep=':\\t')\n",
    "        print('dst path', duplicate_path, sep=':\\t')\n",
    "\n",
    "    csv_file = open(csv_filepath, mode='a')\n",
    "    writer = utils_csv.create_csv_writer(csv_file)\n",
    "    writer.writerow([duplicate_path])\n",
    "        \n",
    "    # -- for testing only\n",
    "    # images = {}\n",
    "    # images['rm2613630720'] = [(63200, 'https://www.imdb.com/name/nm0000507/mediaviewer/rm2613630720'), (138994, 'https://www.imdb.com/name/nm0004395/mediaviewer/rm2613630720'), (186283, 'https://www.imdb.com/name/nm2106637/mediaviewer/rm2613630720')]\n",
    "    # print(images)\n",
    "    \n",
    "    utils.prepare_dst_directory(duplicate_path)\n",
    "    filelist = utils.list_files(annotated_path, ext=ext)\n",
    "    \n",
    "    n_duplicates, operator = 5, 'gte'    \n",
    "#     n_duplicates, operator = 4, 'eql'\n",
    "#     n_duplicates, operator = 3, 'eql'\n",
    "#     n_duplicates, operator = 2, 'eql'\n",
    "#     n_duplicates, operator = 2, 'gte' #ALL\n",
    "    \n",
    "    ##image_group_iterator = images.items() # -- for testing only\n",
    "    print('# groups', len([key for key, _ in utils_imdb.iterate_filter_len(images, n_duplicates, operator)]), sep=':\\t')\n",
    "\n",
    "    print('\\n** BEGIN **: remove duplicate: IMDB Gender')\n",
    "    n = 0\n",
    "    for key, image_group in utils_imdb.iterate_filter_len(images, n_duplicates, operator):\n",
    "        files = utils.find_path_of_files(image_group, filelist, ext, annotated_path)\n",
    "        n += 1\n",
    "        if verbose and n % 100 == 0:    print(n)\n",
    "        \n",
    "        if len(files) <= 1:\n",
    "            if debug:    print('--continue')\n",
    "            continue\n",
    "        if verbose:    print('>>', key)\n",
    "\n",
    "        all_dup, is_duplicate = utils.all_images_duplicate(files)\n",
    "        ##if debug:    print(all_dup, is_duplicate, sep='\\n')\n",
    "        if all_dup:\n",
    "            files_to_move = files[1:]\n",
    "            if do_write_csv:\n",
    "                for f in files_to_move:\n",
    "                    writer.writerow([f.replace(annotated_path + (\"\" if annotated_path[-1] == \"/\" else \"/\"), \"\")])\n",
    "            if do_move_files:\n",
    "                # keep the first, move out the rest\n",
    "                utils.move_files(files_to_move, annotated_path, duplicate_path, verbose=True)\n",
    "    print('** END **: remove duplicate: IMDB Gender:', n+1, 'groups')"
   ]
  },
  {
   "cell_type": "code",
   "execution_count": null,
   "metadata": {},
   "outputs": [],
   "source": [
    "utils_csv.close_file(csv_file)"
   ]
  },
  }
 ],
 "metadata": {
  "kernelspec": {
   "display_name": "Python 3",
   "language": "python",
   "name": "python3"
  },
  "language_info": {
   "codemirror_mode": {
    "name": "ipython",
    "version": 3
   },
   "file_extension": ".py",
   "mimetype": "text/x-python",
   "name": "python",
   "nbconvert_exporter": "python",
   "pygments_lexer": "ipython3",
   "version": "3.6.8"
  }
 },
 "nbformat": 4,
 "nbformat_minor": 2
}
