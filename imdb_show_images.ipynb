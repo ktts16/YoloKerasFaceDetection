{
 "cells": [
  {
   "cell_type": "markdown",
   "metadata": {},
   "source": [
    "# Show images from IMDB dataset for labelling and cleaning\n",
    "\n",
    "Source: https://stackoverflow.com/questions/19471814/display-multiple-images-in-one-ipython-notebook-cell"
   ]
  },
  {
   "cell_type": "code",
   "execution_count": null,
   "metadata": {},
   "outputs": [],
   "source": [
    "import os\n",
    "import numpy as np\n",
    "import pandas as pd\n",
    "import matplotlib.pyplot as plt\n",
    "import PIL"
   ]
  },
  {
   "cell_type": "code",
   "execution_count": null,
   "metadata": {},
   "outputs": [],
   "source": [
    "image_path = '/home/krittametht/dataset/agegender_imdb/annotations/gender/train/f'"
   ]
  },
  {
   "cell_type": "code",
   "execution_count": null,
   "metadata": {},
   "outputs": [],
   "source": [
    "filenames = ! ls $image_path\n",
    "filenames_df = pd.DataFrame(filenames)\n",
    "print(\"Total # files:\", len(filenames))\n",
    "\n",
    "# sort according to int image id from filename format: \"\"%d.jpg\"\n",
    "sorted_index = filenames_df[0].str.rsplit('.').str[0].astype(int).sort_values().index\n",
    "filenames_df = filenames_df.reindex(index=sorted_index)\n",
    "filenames = filenames_df[0].tolist()"
   ]
  },
  {
   "cell_type": "code",
   "execution_count": null,
   "metadata": {},
   "outputs": [],
   "source": [
    "def index_of(filenames_series, filename):\n",
    "    return filenames_series.str.startswith(filename + \".\").tolist().index(True)\n",
    "\n",
    "# match = index_of(filenames_df[0], \"6\")\n",
    "# print(match)"
   ]
  },
  {
   "cell_type": "code",
   "execution_count": null,
   "metadata": {},
   "outputs": [],
   "source": [
    "filenames_df.head(10)\n",
    "# filenames_df.tail(10)"
   ]
  },
  {
   "cell_type": "code",
   "execution_count": null,
   "metadata": {},
   "outputs": [],
   "source": [
    "def loop_each_n_items(l, n, start_index=0, end_index=0):\n",
    "    end_i = end_index\n",
    "    if end_index == 0:\n",
    "        if start_index == 0:\n",
    "            end_i = len(l)-n+1\n",
    "        else:\n",
    "            end_i = start_index+n\n",
    "    for i in range(start_index,end_i,n):\n",
    "        yield l[i:i+n]"
   ]
  },
  {
   "cell_type": "code",
   "execution_count": null,
   "metadata": {},
   "outputs": [],
   "source": [
    "# Source: https://nbviewer.jupyter.org/gist/minrk/7076095\n",
    "\n",
    "plot_batch_size = 10\n",
    "start_index = index_of(filenames_df[0], \"18\")\n",
    "\n",
    "for sel_filenames in loop_each_n_items(filenames, plot_batch_size, start_index, start_index+plot_batch_size):\n",
    "    print(sel_filenames)\n",
    "\n",
    "    images = [ PIL.Image.open(f) for f in [os.path.join(image_path, fn) for fn in sel_filenames] ]\n",
    "\n",
    "    fig = plt.figure(figsize=(20,20))\n",
    "    columns = 5\n",
    "    for i, image in enumerate(images):\n",
    "        sub = plt.subplot(len(images) / columns + 1, columns, i + 1)\n",
    "        sub.set_title(image.filename.split('/')[-1])\n",
    "        plt.imshow(image)"
   ]
  }
 ],
 "metadata": {
  "kernelspec": {
   "display_name": "Python 3",
   "language": "python",
   "name": "python3"
  },
  "language_info": {
   "codemirror_mode": {
    "name": "ipython",
    "version": 3
   },
   "file_extension": ".py",
   "mimetype": "text/x-python",
   "name": "python",
   "nbconvert_exporter": "python",
   "pygments_lexer": "ipython3",
   "version": "3.6.8"
  }
 },
 "nbformat": 4,
 "nbformat_minor": 2
}
