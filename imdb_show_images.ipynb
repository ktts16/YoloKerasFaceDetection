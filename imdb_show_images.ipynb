{
 "cells": [
  {
   "cell_type": "markdown",
   "metadata": {},
   "source": [
    "# Show images from IMDB dataset for labelling and cleaning\n",
    "\n",
    "Source: https://stackoverflow.com/questions/19471814/display-multiple-images-in-one-ipython-notebook-cell"
   ]
  },
  {
   "cell_type": "code",
   "execution_count": null,
   "metadata": {},
   "outputs": [],
   "source": [
    "#use the native Tk backend\n",
    "%matplotlib tk\n",
    "import matplotlib.pyplot as plt\n",
    "from matplotlib.widgets import Button\n",
    "\n",
    "import os\n",
    "import numpy as np\n",
    "import pandas as pd\n",
    "import PIL\n",
    "\n",
    "import pyperclip\n",
    "#sudo pip3 install pyperclip\n",
    "\n",
    "import tkinter as tk"
   ]
  },
  {
   "cell_type": "code",
   "execution_count": null,
   "metadata": {},
   "outputs": [],
   "source": [
    "image_path = '/home/krittametht/dataset/agegender_imdb/annotations/gender/train/f'"
   ]
  },
  {
   "cell_type": "code",
   "execution_count": null,
   "metadata": {},
   "outputs": [],
   "source": [
    "filenames = !  ls -p $image_path | grep -v /\n",
    "filenames_df = pd.DataFrame(filenames)\n",
    "print(\"Total # files:\", len(filenames))\n",
    "\n",
    "# sort according to int image id from filename format: \"\"%d.jpg\"\n",
    "sorted_index = filenames_df[0].str.rsplit('.').str[0].astype(int).sort_values().index\n",
    "filenames_df = filenames_df.reindex(index=sorted_index)\n",
    "filenames = filenames_df[0].tolist()"
   ]
  },
  {
   "cell_type": "code",
   "execution_count": null,
   "metadata": {},
   "outputs": [],
   "source": [
    "def index_of(filenames_series, filename):\n",
    "    return filenames_series.str.startswith(filename + \".\").tolist().index(True)"
   ]
  },
  {
   "cell_type": "code",
   "execution_count": null,
   "metadata": {},
   "outputs": [],
   "source": [
    "to_filename_n = 140057\n",
    "to_filename = str(to_filename_n)\n",
    "count = index_of(filenames_df[0], to_filename) + 1\n",
    "print(\"count up to {}: \".format(to_filename), count)\n",
    "print(\"Total # files:\", len(filenames))\n",
    "print(\"labelled (%): {:.2f}%\".format(count/len(filenames)*100))"
   ]
  },
  {
   "cell_type": "code",
   "execution_count": null,
   "metadata": {},
   "outputs": [],
   "source": [
    "filenames_df.head(10)\n",
    "# filenames_df.tail(10)"
   ]
  },
  {
   "cell_type": "code",
   "execution_count": null,
   "metadata": {},
   "outputs": [],
   "source": [
    "def get_indices_of_next_n_items(l, start_index, n):\n",
    "    if start_index < 0 or start_index > len(l)-n:\n",
    "        raise Exception(\"'start_index' must be within range [0, {}] because list l is of length {}\".format(len(l)-n, len(l)))\n",
    "    return (start_index, start_index+n)\n",
    "\n",
    "\n",
    "def get_indices_of_prev_n_items(l, end_index, n):\n",
    "    if end_index > len(l)-1 or end_index < n:\n",
    "        raise Exception(\"'end_index' must be within range [{}, {}] because list l is of length {}\".format(n, len(l)-1, len(l)))\n",
    "    start = end_index-n+1\n",
    "    return (start, end_index+1)"
   ]
  },
  {
   "cell_type": "code",
   "execution_count": null,
   "metadata": {},
   "outputs": [],
   "source": [
    "def loop_each_n_items(l, n, start_index=0, end_index=0):\n",
    "    end_i = end_index\n",
    "    if end_index == 0:\n",
    "        if start_index == 0:\n",
    "            end_i = len(l)-n+1\n",
    "        else:\n",
    "            end_i = start_index+n\n",
    "    for i in range(start_index,end_i,n):\n",
    "        yield l[i:i+n]\n",
    "\n",
    "\n",
    "def get_display_resolution():\n",
    "    root = tk.Tk()\n",
    "    width_pixel = root.winfo_screenwidth()\n",
    "    height_pixel = root.winfo_screenheight()\n",
    "\n",
    "    width_inch = root.winfo_screenmmwidth() * 1/25.4 #MM_TO_IN\n",
    "    dpi = width_pixel/width_inch\n",
    "    root.destroy() #close window\n",
    "    return width_pixel, height_pixel, dpi"
   ]
  },
  {
   "cell_type": "code",
   "execution_count": null,
   "metadata": {},
   "outputs": [],
   "source": [
    "def onclick(event):\n",
    "    if event.inaxes is not None:\n",
    "        # the axes object on which the user clicked\n",
    "        ax = event.inaxes\n",
    "        # can use ax.children() to find which img artist is in this axes and extract the data from it\n",
    "\n",
    "        subplot_title = ax.get_title()\n",
    "\n",
    "        # copy subplot's title to clipboard\n",
    "        pyperclip.copy(subplot_title.split(\".\")[0])"
   ]
  },
  {
   "cell_type": "code",
   "execution_count": null,
   "metadata": {},
   "outputs": [],
   "source": [
    "def write_logs_ui(line):\n",
    "    file_logs_ui = os.path.join(os.getcwd(),\"logs_ui.txt\")\n",
    "    # If file exists, append (\"a\"). Otherwise, create file (\"w\").\n",
    "    mode = \"a\" if os.path.exists(file_logs_ui) else \"w\"\n",
    "    with open(file_logs_ui, mode) as text_file:\n",
    "        if mode == \"w\":\n",
    "            text_file.write(\"# last FileNameIterator.ind\" + \"\\n\")\n",
    "        text_file.write(line + \"\\n\")"
   ]
  },
  {
   "cell_type": "code",
   "execution_count": null,
   "metadata": {},
   "outputs": [],
   "source": [
    "class FileNameIterator(object):\n",
    "    def __init__(self, filenames, n, ind=0, fig=None):\n",
    "        self.filenames = filenames\n",
    "        self.n = n\n",
    "        self.ind = ind\n",
    "        self.fig = fig\n",
    "\n",
    "    \n",
    "    def update_ind(self, new_ind):\n",
    "        if new_ind >= self.n and new_ind < len(self.filenames):\n",
    "            self.ind = new_ind\n",
    "\n",
    "            \n",
    "    def next(self):\n",
    "        ##get next set of image file names\n",
    "        inds = get_indices_of_next_n_items(filenames, self.ind, self.n)\n",
    "        self.update_ind(inds[-1]-1)\n",
    "        return self.filenames[inds[0]:inds[1]]\n",
    "        \n",
    "\n",
    "    def prev(self):\n",
    "        ##get previous set of image file names\n",
    "        inds = get_indices_of_prev_n_items(filenames, self.ind, self.n)\n",
    "        self.update_ind(inds[0])\n",
    "        return self.filenames[inds[0]:inds[1]]\n",
    "\n",
    "\n",
    "    def next_redraw(self, event):\n",
    "         self.redraw(self.next())\n",
    "\n",
    "            \n",
    "    def prev_redraw(self, event):\n",
    "        self.redraw(self.prev())\n",
    "    \n",
    "    \n",
    "    def redraw(self, files):\n",
    "        self.fig = image_grid_plot(open_images(files), figsize=figsize, columns=columns, fig=fig)\n",
    "        plt.draw()\n",
    "        write_logs_ui(\"%d\" % self.ind)\n"
   ]
  },
  {
   "cell_type": "code",
   "execution_count": null,
   "metadata": {},
   "outputs": [],
   "source": [
    "# Source: https://nbviewer.jupyter.org/gist/minrk/7076095\n",
    "    \n",
    "def open_images(list_filenames):\n",
    "    return [PIL.Image.open(os.path.join(image_path, f)) for f in list_filenames]\n",
    "\n",
    "\n",
    "def image_grid_plot(images, figsize=(20,20), columns=5, fig=None):\n",
    "    if fig is None:\n",
    "        fig = plt.figure(figsize=figsize)\n",
    "    if images is not None:\n",
    "        # remove all axes (subplots) except the first two (buttons)\n",
    "        for ax in fig.get_axes()[2:]:\n",
    "            ax.remove()\n",
    "        for i, image in enumerate(images):\n",
    "            filename = image.filename.split('/')[-1]\n",
    "            sub = plt.subplot(len(images) / columns + 1, columns, i + 1, label=filename)\n",
    "            sub.clear()\n",
    "            sub.set_title(filename)\n",
    "            plt.imshow(image)\n",
    "            sub.axes.set_axis_off() #hide subplot's axes\n",
    "\n",
    "    # when mouse button pressed, call onclick function\n",
    "    cid = fig.canvas.mpl_connect('button_press_event', onclick)\n",
    "    # make subplots has no margin\n",
    "    fig.subplots_adjust(bottom=0.05, top=0.95, left=0, right=1, wspace=0.0)\n",
    "    return fig"
   ]
  },
  {
   "cell_type": "code",
   "execution_count": null,
   "metadata": {},
   "outputs": [],
   "source": [
    "start_index_n = 60462\n",
    "start_index = index_of(filenames_df[0], str(start_index_n))\n",
    "\n",
    "plot_batch_size = 12\n",
    "columns = 4\n",
    "\n",
    "# make figure size: half of screen's width and screen's height\n",
    "screen_width, screen_height, dpi = get_display_resolution()\n",
    "figsize = (screen_width/2/dpi, screen_height/dpi)\n",
    "\n",
    "fig = image_grid_plot(loop_each_n_items(filenames, plot_batch_size, start_index, start_index+plot_batch_size), figsize=figsize, columns=columns)\n",
    "\n",
    "# move the upper left corner of figure at middle of screen's width\n",
    "plt.get_current_fig_manager().window.geometry(\"+\" + str(int(screen_width/2)) + \"+0\")"
    "# source: https://matplotlib.org/3.1.0/gallery/widgets/buttons.html\n",
    "axnext = plt.axes([0.81, 0.05, 0.1, 0.075])\n",
    "bnext = Button(axnext, 'Next')\n",
    "bnext.on_clicked(fnit.next_redraw)\n",
    "\n",
    "axprev = plt.axes([0.7, 0.05, 0.1, 0.075])\n",
    "bprev = Button(axprev, 'Previous')\n",
    "bprev.on_clicked(fnit.prev_redraw)\n",
    "\n",
   ]
  },
  {
   "cell_type": "code",
   "execution_count": null,
   "metadata": {},
   "outputs": [],
   "source": []
  }
 ],
 "metadata": {
  "kernelspec": {
   "display_name": "Python 3",
   "language": "python",
   "name": "python3"
  },
  "language_info": {
   "codemirror_mode": {
    "name": "ipython",
    "version": 3
   },
   "file_extension": ".py",
   "mimetype": "text/x-python",
   "name": "python",
   "nbconvert_exporter": "python",
   "pygments_lexer": "ipython3",
   "version": "3.6.8"
  }
 },
 "nbformat": 4,
 "nbformat_minor": 2
}
