{
 "cells": [
  {
   "cell_type": "markdown",
   "metadata": {},
   "source": [
    "# Show images from IMDB dataset for labelling and cleaning\n",
    "\n",
    "Source: https://stackoverflow.com/questions/19471814/display-multiple-images-in-one-ipython-notebook-cell"
   ]
  },
  {
   "cell_type": "code",
   "execution_count": null,
   "metadata": {},
   "outputs": [],
   "source": [
    "#use the native Tk backend\n",
    "%matplotlib tk\n",
    "import matplotlib.pyplot as plt\n",
    "\n",
    "import os\n",
    "import numpy as np\n",
    "import pandas as pd\n",
    "import PIL\n",
    "\n",
    "import pyperclip\n",
    "#sudo pip3 install pyperclip\n",
    "\n",
    "import tkinter as tk"
   ]
  },
  {
   "cell_type": "code",
   "execution_count": null,
   "metadata": {},
   "outputs": [],
   "source": [
    "image_path = '/home/krittametht/dataset/agegender_imdb/annotations/gender/train/f'"
   ]
  },
  {
   "cell_type": "code",
   "execution_count": null,
   "metadata": {},
   "outputs": [],
   "source": [
    "filenames = ! ls $image_path\n",
    "filenames_df = pd.DataFrame(filenames)\n",
    "print(\"Total # files:\", len(filenames))\n",
    "\n",
    "# sort according to int image id from filename format: \"\"%d.jpg\"\n",
    "sorted_index = filenames_df[0].str.rsplit('.').str[0].astype(int).sort_values().index\n",
    "filenames_df = filenames_df.reindex(index=sorted_index)\n",
    "filenames = filenames_df[0].tolist()"
   ]
  },
  {
   "cell_type": "code",
   "execution_count": null,
   "metadata": {},
   "outputs": [],
   "source": [
    "def index_of(filenames_series, filename):\n",
    "    return filenames_series.str.startswith(filename + \".\").tolist().index(True)"
   ]
  },
  {
   "cell_type": "code",
   "execution_count": null,
   "metadata": {},
   "outputs": [],
   "source": [
    "to_filename_n = 140057\n",
    "to_filename = str(to_filename_n)\n",
    "count = index_of(filenames_df[0], to_filename) + 1\n",
    "print(\"count up to {}: \".format(to_filename), count)\n",
    "print(\"Total # files:\", len(filenames))\n",
    "print(\"labelled (%): {:.2f}%\".format(count/len(filenames)*100))"
   ]
  },
  {
   "cell_type": "code",
   "execution_count": null,
   "metadata": {},
   "outputs": [],
   "source": [
    "filenames_df.head(10)\n",
    "# filenames_df.tail(10)"
   ]
  },
  {
   "cell_type": "code",
   "execution_count": null,
   "metadata": {},
   "outputs": [],
   "source": [
    "def loop_each_n_items(l, n, start_index=0, end_index=0):\n",
    "    end_i = end_index\n",
    "    if end_index == 0:\n",
    "        if start_index == 0:\n",
    "            end_i = len(l)-n+1\n",
    "        else:\n",
    "            end_i = start_index+n\n",
    "    for i in range(start_index,end_i,n):\n",
    "        yield l[i:i+n]\n",
    "\n",
    "\n",
    "def get_display_resolution():\n",
    "    root = tk.Tk()\n",
    "    width_pixel = root.winfo_screenwidth()\n",
    "    height_pixel = root.winfo_screenheight()\n",
    "\n",
    "    width_inch = root.winfo_screenmmwidth() * 1/25.4 #MM_TO_IN\n",
    "    dpi = width_pixel/width_inch\n",
    "    root.destroy() #close window\n",
    "    return width_pixel, height_pixel, dpi"
   ]
  },
  {
   "cell_type": "code",
   "execution_count": null,
   "metadata": {},
   "outputs": [],
   "source": [
    "def onclick(event):\n",
    "    if event.inaxes is not None:\n",
    "        # the axes object on which the user clicked\n",
    "        ax = event.inaxes\n",
    "        # can use ax.children() to find which img artist is in this axes and extract the data from it\n",
    "\n",
    "        subplot_title = ax.get_title()\n",
    "\n",
    "        # copy subplot's title to clipboard\n",
    "        pyperclip.copy(subplot_title.split(\".\")[0])"
   ]
  },
  {
   "cell_type": "code",
   "execution_count": null,
   "metadata": {},
   "outputs": [],
   "source": [
    "# Source: https://nbviewer.jupyter.org/gist/minrk/7076095\n",
    "\n",
    "def image_grid_plot(list_filenames, figsize=(20,20), columns=5):\n",
    "    for sel_filenames in list_filenames:\n",
    "        images = [ PIL.Image.open(f) for f in [os.path.join(image_path, fn) for fn in sel_filenames] ]\n",
    "\n",
    "    fig = plt.figure(figsize=figsize)\n",
    "    for i, image in enumerate(images):\n",
    "        sub = plt.subplot(len(images) / columns + 1, columns, i + 1)\n",
    "        sub.set_title(image.filename.split('/')[-1])\n",
    "        plt.imshow(image)\n",
    "        sub.axes.set_axis_off() #hide subplot's axes\n",
    "    \n",
    "    # when mouse button pressed, call onclick function\n",
    "    cid = fig.canvas.mpl_connect('button_press_event', onclick)\n",
    "    # make subplots has no margin\n",
    "    fig.subplots_adjust(bottom=0, top=1, left=0, right=1, wspace=0.0)\n",
    "    return fig"
   ]
  },
  {
   "cell_type": "code",
   "execution_count": null,
   "metadata": {},
   "outputs": [],
   "source": [
    "start_index_n = 60462\n",
    "start_index = index_of(filenames_df[0], str(start_index_n))\n",
    "\n",
    "plot_batch_size = 12\n",
    "columns = 4\n",
    "\n",
    "# make figure size: half of screen's width and screen's height\n",
    "screen_width, screen_height, dpi = get_display_resolution()\n",
    "figsize = (screen_width/2/dpi, screen_height/dpi)\n",
    "\n",
    "fig = image_grid_plot(loop_each_n_items(filenames, plot_batch_size, start_index, start_index+plot_batch_size), figsize=figsize, columns=columns)\n",
    "\n",
    "# move the upper left corner of figure at middle of screen's width\n",
    "plt.get_current_fig_manager().window.geometry(\"+\" + str(int(screen_width/2)) + \"+0\")"
   ]
  },
  {
   "cell_type": "code",
   "execution_count": null,
   "metadata": {},
   "outputs": [],
   "source": []
  }
 ],
 "metadata": {
  "kernelspec": {
   "display_name": "Python 3",
   "language": "python",
   "name": "python3"
  },
  "language_info": {
   "codemirror_mode": {
    "name": "ipython",
    "version": 3
   },
   "file_extension": ".py",
   "mimetype": "text/x-python",
   "name": "python",
   "nbconvert_exporter": "python",
   "pygments_lexer": "ipython3",
   "version": "3.6.8"
  }
 },
 "nbformat": 4,
 "nbformat_minor": 2
}
