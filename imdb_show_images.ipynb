{
 "cells": [
  {
   "cell_type": "markdown",
   "metadata": {},
   "source": [
    "# Show images from IMDB dataset for labelling and cleaning\n",
    "\n",
    "Source: https://stackoverflow.com/questions/19471814/display-multiple-images-in-one-ipython-notebook-cell"
   ]
  },
  {
   "cell_type": "code",
   "execution_count": null,
   "metadata": {},
   "outputs": [],
   "source": [
    "#use the native Tk backend\n",
    "%matplotlib tk\n",
    "\n",
    "from utils import *\n",
    "from utils_visualization import *\n",
    "import os"
   ]
  },
  {
   "cell_type": "code",
   "execution_count": null,
   "metadata": {},
   "outputs": [],
   "source": [
    "image_root_path = get_local_dataset_root_path() + 'dataset/agegender_imdb/annotations/gender/'\n",
    "\n",
    "# image_path = os.path.join(image_root_path, 'train/f')\n",
    "# image_path = os.path.join(image_root_path, 'train/m')\n",
    "image_path = os.path.join(image_root_path, 'validation/f')\n",
    "# image_path = os.path.join(image_root_path, 'validation/m')\n",
    "\n",
    "# # >> wrong labels\n",
    "# # subset = 'train_wrong'\n",
    "# subset = 'validation_wrong'\n",
    "\n",
    "# label_wrong, label_actual = ('f', 'm')\n",
    "# # label_wrong, label_actual = ('f', 'not_human')\n",
    "# # label_wrong, label_actual = ('m', 'f')\n",
    "# # label_wrong, label_actual = ('m', 'not_human')\n",
    "\n",
    "# image_path = os.path.join(image_root_path, subset, label_wrong, label_actual)\n",
    "\n",
    "print(image_path)"
   ]
  },
  {
   "cell_type": "code",
   "execution_count": null,
   "metadata": {},
   "outputs": [],
   "source": [
    "filenames = os.listdir(image_path)\n",
    "filenames, filenames_df, start_index_int = get_sorted_filenames_and_dataframe(filenames)\n",
    "print(\"Total # files:\", len(filenames))\n",
    "# print(filenames[:10])"
   ]
  },
  {
   "cell_type": "code",
   "execution_count": null,
   "metadata": {
    "scrolled": true
   },
   "outputs": [],
   "source": [
    "mode = 1 #open all images in the folder\n",
    "# mode = 2 #open selected images in the folder\n",
    "\n",
    "if mode == 2:\n",
    "    image_ids = np.loadtxt(\"./image_ids.txt\", delimiter='\\n', dtype='int')\n",
    "#     print(len(image_ids))\n",
    "#     print(type(image_ids[0]))\n",
    "\n",
    "    start_index = 1\n",
    "    show_filenames = [str(imid) + \".jpg\" for imid in image_ids]\n",
    "\n",
    "elif mode == 1:\n",
    "    # > folder f\n",
    "    # start_index_n = 455281\n",
    "#     start_index_n = 460702\n",
    "    # start_index_n = 98741\n",
    "    # start_index_n = 63615\n",
    "    # start_index_n = 91555\n",
    "#     start_index_n = 94098\n",
    "\n",
    "    # > folder m\n",
    "    # start_index_n = 73 # 2nd image\n",
    "#     start_index_n = 455494\n",
    "#     start_index_n = 460551 # for last batch\n",
    "\n",
    "#     start_index_n = 22919\n",
    "\n",
    "    # > val/m\n",
    "#     start_index_n = 74516 #BEGIN\n",
    "#     start_index_n = 460472\n",
    "#     start_index_n = 335924\n",
    "\n",
    "    # > val/f\n",
    "#     start_index_n = 390724\n",
    "    start_index_n = 460644\n",
    "#     start_index_n = 36\n",
    "\n",
    "    start_index_n = -1\n",
    "\n",
    "    if start_index_n == -1:\n",
    "        # get second of sorted file name\n",
    "        start_index_n = start_index_int\n",
    "        print(start_index_n)\n",
    "\n",
    "    start_index = index_of(filenames_df[0], str(start_index_n))\n",
    "    show_filenames = filenames\n",
    "\n",
    "(plot_batch_size, columns) = (8, 3)\n",
    "\n",
    "fnit = FileNameIterator(image_path, show_filenames, plot_batch_size, columns, start_index)"
   ]
  },
  {
   "cell_type": "code",
   "execution_count": null,
   "metadata": {},
   "outputs": [],
   "source": [
    "# > folder f\n",
    "# to_filename_n = 270215\n",
    "# > folder m\n",
    "# to_filename_n = 460622\n",
    "# > val/m\n",
    "# to_filename_n = 460620\n",
    "# > val/f\n",
    "to_filename_n = 452672\n",
    "\n",
    "count = index_of(filenames_df[0], str(to_filename_n)) + 1\n",
    "print(\"count up to {}: \".format(str(to_filename_n)), count)\n",
    "print(\"Total # files:\", len(filenames))\n",
    "print(\"labelled (%): {:.2f}%\".format(count/len(filenames)*100))"
   ]
  },
  {
   "cell_type": "code",
   "execution_count": null,
   "metadata": {},
   "outputs": [],
   "source": [
   ]
  },
  {
   "cell_type": "code",
   "execution_count": null,
   "metadata": {},
   "outputs": [],
   "source": []
  }
 ],
 "metadata": {
  "kernelspec": {
   "display_name": "Python 3",
   "language": "python",
   "name": "python3"
  },
  "language_info": {
   "codemirror_mode": {
    "name": "ipython",
    "version": 3
   },
   "file_extension": ".py",
   "mimetype": "text/x-python",
   "name": "python",
   "nbconvert_exporter": "python",
   "pygments_lexer": "ipython3",
   "version": "3.6.8"
  }
 },
 "nbformat": 4,
 "nbformat_minor": 2
}
