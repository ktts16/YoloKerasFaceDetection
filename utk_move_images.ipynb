{
 "cells": [
  {
   "cell_type": "code",
   "execution_count": null,
   "metadata": {},
   "outputs": [],
   "source": [
    "import os\n",
    "from utils import get_local_dataset_root_path"
   ]
  },
  {
   "cell_type": "markdown",
   "metadata": {},
   "source": [
    "### Pseudocode\n",
    "* get f1 : file names from annotations/age101/\\[age\\]\n",
    "* copy annotations/gender to annotations/gender_rm_age_\\[age\\]\n",
    "* remove f1 from annotations/gender/* i.e. /f, /m"
   ]
  },
  {
   "cell_type": "code",
   "execution_count": null,
   "metadata": {},
   "outputs": [],
   "source": [
    "dataset_root_path = get_local_dataset_root_path() + 'dataset/agegender_utk/annotations'"
   ]
  },
  {
   "cell_type": "markdown",
   "metadata": {},
   "source": [
    "## Get filenames to be removed (f1)"
   ]
  },
  {
   "cell_type": "code",
   "execution_count": null,
   "metadata": {},
   "outputs": [],
   "source": [
    "subsets = os.listdir(os.path.join(dataset_root_path, 'age101'))\n",
    "print(subsets)\n",
    "\n",
    "selected_age = 1\n",
    "age_str = '{0:03}'.format(selected_age)\n",
    "rm_filenames = []\n",
    "for subset in subsets:\n",
    "    path = os.path.join(dataset_root_path, 'age101', subset, age_str)\n",
    "    filenames = os.listdir(path)\n",
    "    rm_filenames += filenames\n",
    "    \n",
    "    print(path)\n",
    "    print(len(filenames))\n",
    "\n",
    "print(len(rm_filenames))\n",
    "print(rm_filenames[:20])"
   ]
  },
  {
   "cell_type": "markdown",
   "metadata": {},
   "source": [
    "## Make a copy of annotations/gender (p1)"
   ]
  },
  {
   "cell_type": "code",
   "execution_count": null,
   "metadata": {},
   "outputs": [],
   "source": [
    "# Source: https://www.pythoncentral.io/how-to-recursively-copy-a-directory-folder-in-python/\n",
    "import errno\n",
    "import shutil\n",
    " \n",
    "def copy(src, dest):\n",
    "    try:\n",
    "        shutil.copytree(src, dest)\n",
    "    except OSError as e:\n",
    "        # If the error was caused because the source wasn't a directory\n",
    "        if e.errno == errno.ENOTDIR:\n",
    "            shutil.copy(src, dest)\n",
    "        else:\n",
    "            print('Directory not copied. Error: %s' % e)"
   ]
  },
  {
   "cell_type": "code",
   "execution_count": null,
   "metadata": {},
   "outputs": [],
   "source": [
    "src = os.path.join(dataset_root_path, 'gender', 'all')\n",
    "dest = os.path.join(dataset_root_path, 'gender_rm_age_' + age_str, 'all')\n",
    "print(dest)\n",
    "copy(src, dest)"
   ]
  },
  {
   "cell_type": "markdown",
   "metadata": {},
   "source": [
    "## Remove files (f1) from p1"
   ]
  },
  {
   "cell_type": "code",
   "execution_count": null,
   "metadata": {},
   "outputs": [],
   "source": [
    "def remove_file(file, log=False):\n",
    "    if os.path.exists(file):\n",
    "        os.remove(file)\n",
    "        return True\n",
    "    else:\n",
    "        if log:\n",
    "            print('File does not exists:\\t' + file)\n",
    "        return False"
   ]
  },
  {
   "cell_type": "code",
   "execution_count": null,
   "metadata": {},
   "outputs": [],
   "source": [
    "##--test\n",
    "# remove_file(\"/home/krittametht/dataset/agegender_utk/annotations/gender_rm_age_001/all/m/3200.jpg\", True)"
   ]
  },
  {
   "cell_type": "code",
   "execution_count": null,
   "metadata": {},
   "outputs": [],
   "source": [
    "subdirs = os.listdir(dest)\n",
    "# print(subdirs)\n",
    "\n",
    "log = False\n",
    "# log = True\n",
    "rm_count = 0\n",
    "for f in rm_filenames:\n",
    "    for sub in subdirs:\n",
    "        succeed = remove_file(os.path.join(dest,sub,f), log)\n",
    "        if succeed:\n",
    "            rm_count = rm_count + 1\n",
    "print(rm_count)"
   ]
  },
  {
   "cell_type": "code",
   "execution_count": null,
   "metadata": {},
   "outputs": [],
   "source": []
  }
 ],
 "metadata": {
  "kernelspec": {
   "display_name": "Python 3",
   "language": "python",
   "name": "python3"
  },
  "language_info": {
   "codemirror_mode": {
    "name": "ipython",
    "version": 3
   },
   "file_extension": ".py",
   "mimetype": "text/x-python",
   "name": "python",
   "nbconvert_exporter": "python",
   "pygments_lexer": "ipython3",
   "version": "3.6.8"
  }
 },
 "nbformat": 4,
 "nbformat_minor": 2
}
