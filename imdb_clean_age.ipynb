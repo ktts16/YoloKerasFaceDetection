{
 "cells": [
  {
   "cell_type": "markdown",
   "metadata": {},
   "source": [
    "## Clean IMDB : age data\n",
    "\n",
    "**Source:** annotation_imdb_keras.py"
   ]
  },
  {
   "cell_type": "code",
   "execution_count": null,
   "metadata": {},
   "outputs": [],
   "source": [
    "import importlib"
   ]
  },
  {
   "cell_type": "code",
   "execution_count": null,
   "metadata": {},
   "outputs": [],
   "source": [
    "from scipy import io as spio\n",
    "from datetime import datetime\n",
    "\n",
    "import numpy as np\n",
    "import os\n",
    "import shutil\n",
    "\n",
    "from utils import get_local_dataset_root_path, all_equal"
   ]
  },
  {
   "cell_type": "code",
   "execution_count": null,
   "metadata": {},
   "outputs": [],
   "source": [
    "#-- added\n",
    "import matplotlib.pyplot as plt\n",
    "import PIL"
   ]
  },
  {
   "cell_type": "code",
   "execution_count": null,
   "metadata": {},
   "outputs": [],
   "source": [
    "delimeter = \":\\t\"\n",
    "\n",
    "# utils : stats\n",
    "from scipy import stats\n",
    "\n",
    "from utils_imdb import calc_age, is_valid, yob"
   ]
  },
  {
   "cell_type": "code",
   "execution_count": null,
   "metadata": {},
   "outputs": [],
   "source": [
    "if(os.path.exists(\"./dataset/imdb_crop/\")):\n",
    "    DATASET_ROOT_PATH=\"\"\n",
    "else:\n",
    "    DATASET_ROOT_PATH=get_local_dataset_root_path()\n",
    "\n",
    "OUTPUT_LABEL=\"agegender_imdb\"\n",
    "\n",
    "IMDB_PATH=DATASET_ROOT_PATH+\"dataset/imdb_crop/\""
   ]
  },
  {
   "cell_type": "code",
   "execution_count": null,
   "metadata": {},
   "outputs": [],
   "source": [
    "meta = spio.loadmat(IMDB_PATH+\"imdb.mat\")\n",
    "\n",
    "db = \"imdb\""
   ]
  },
  {
   "cell_type": "markdown",
   "metadata": {},
   "source": [
    "### Convert numpy ndarray to pandas DataFrame\n",
    "\n",
    "Check\n",
    "* All columns have same shape\n",
    "* All rows of the column of type numpy.ndarray have same length (# elements)"
   ]
  },
  {
   "cell_type": "code",
   "execution_count": null,
   "metadata": {},
   "outputs": [],
   "source": [
    "# column_names = [\"full_path\", \"dob\", \"gender\", \"photo_taken\", \"face_score\", \"second_face_score\"]\n",
    "column_names = [\"full_path\", \"dob\", \"gender\", \"photo_taken\", \"face_score\", \"second_face_score\", \"name\"]\n",
    "\n",
    "c_outer_type = np.array([isinstance(meta[db][0, 0][cn], np.ndarray) for cn in column_names])\n",
    "c_inner_type = np.array([isinstance(meta[db][0, 0][cn][0], np.ndarray) for cn in column_names])\n",
    "c_element_type = [type(meta[db][0, 0][cn][0][0]) for cn in column_names]\n",
    "\n",
    "c_outer_shape = np.array([meta[db][0, 0][cn].shape for cn in column_names])\n",
    "c_inner_shape = np.array([meta[db][0, 0][cn][0].shape for cn in column_names])\n",
    "\n",
    "# print(c_outer_shape)\n",
    "# print(c_inner_shape)\n",
    "print(\"Consistent c_outer_shape ? \\t\", all_equal(c_outer_shape, c_outer_shape[0]))\n",
    "print(\"Consistent c_inner_shape ? \\t\", all_equal(c_inner_shape, c_inner_shape[0]))\n",
    "\n",
    "# print(c_outer_type)\n",
    "# print(c_inner_type)\n",
    "print(\"Consistent c_outer_type ? \\t\", all_equal(c_outer_type, True))\n",
    "print(\"Consistent c_inner_type ? \\t\", all_equal(c_inner_type, True))\n",
    "\n",
    "print(c_element_type)\n",
    "\n",
    "for cn in column_names:\n",
    "    if isinstance(meta[db][0, 0][cn][0][0], np.ndarray):\n",
    "        col0 = meta[db][0, 0][cn][0]\n",
    "        col0_len_element = np.array([len(element) for element in col0])\n",
    "        print(\"Consistent element length of column: '%s' ? \\t\" % (cn), all_equal(col0_len_element, 1))"
   ]
  },
  {
   "cell_type": "code",
   "execution_count": null,
   "metadata": {},
   "outputs": [],
   "source": [
    "import pandas as pd\n",
    "\n",
    "df = pd.DataFrame()\n",
    "\n",
    "for cn in column_names:\n",
    "    if isinstance(meta[db][0, 0][cn][0][0], np.ndarray):\n",
    "        df[cn] = [r[0] for r in meta[db][0, 0][cn][0] if len(r) == 1]\n",
    "    else:\n",
    "        df[cn] = meta[db][0, 0][cn][0]"
   ]
  },
  {
   "cell_type": "code",
   "execution_count": null,
   "metadata": {},
   "outputs": [],
   "source": [
    "print(\"shape:\\t\", df.shape)\n",
    "print(df)"
   ]
  },
  {
   "cell_type": "code",
   "execution_count": null,
   "metadata": {},
   "outputs": [],
   "source": [
    "search_str = \"nm0000001_rm980463616_1899-5-10_1968\"\n",
    "\n",
    "row = df.loc[df[\"full_path\"].str.contains(search_str + \".\")]\n",
    "print(row)\n",
    "print(row[\"face_score\"].iloc[0])\n",
    "print(type(row[\"face_score\"]))"
   ]
  },
  {
   "cell_type": "markdown",
   "metadata": {},
   "source": [
    "###  (Original code)"
   ]
  },
  {
   "cell_type": "code",
   "execution_count": null,
   "metadata": {},
   "outputs": [],
   "source": [
    "full_path = meta[db][0, 0][\"full_path\"][0]\n",
    "dob = meta[db][0, 0][\"dob\"][0]\n",
    "gender = meta[db][0, 0][\"gender\"][0]\n",
    "photo_taken = meta[db][0, 0][\"photo_taken\"][0]\n",
    "face_score = meta[db][0, 0][\"face_score\"][0]\n",
    "second_face_score = meta[db][0, 0][\"second_face_score\"][0]\n",
    "age = [calc_age(photo_taken[i], dob[i]) for i in range(len(dob))]"
   ]
  },
  {
   "cell_type": "code",
   "execution_count": null,
   "metadata": {},
   "outputs": [],
   "source": [
    "len(full_path)"
   ]
  },
  {
   "cell_type": "code",
   "execution_count": null,
   "metadata": {},
   "outputs": [],
   "source": [
    "# get column names\n",
    "print(\"column names:\\n\", meta[db][0, 0].dtype.names)"
   ]
  },
  {
   "cell_type": "code",
   "execution_count": null,
   "metadata": {},
   "outputs": [],
   "source": [
    "name = meta[db][0, 0][\"name\"][0]\n",
    "celeb_id = meta[db][0, 0][\"celeb_id\"][0]\n",
    "celeb_names = meta[db][0, 0][\"celeb_names\"][0]\n",
    "\n",
    "print(full_path.shape)\n",
    "print(dob.shape)\n",
    "print(name.shape)\n",
    "print(celeb_id.shape)\n",
    "print(celeb_names.shape)\n",
    "\n",
    "# Note: celeb_names is from another table b/c # rows is less than that of full_path and dob\n",
    "print([ii for ii, cid in enumerate(celeb_id) if cid >= celeb_names.shape[0]])"
   ]
  },
  {
   "cell_type": "markdown",
   "metadata": {},
   "source": [
    "###  (New code)"
   ]
  },
  {
   "cell_type": "code",
   "execution_count": null,
   "metadata": {},
   "outputs": [],
   "source": [
    "# find index of invalid images\n",
    "invalid = []\n",
    "valid = []\n",
    "for i in range(len(full_path)):\n",
    "    if(is_valid(face_score[i],second_face_score[i],age[i],gender[i])):\n",
    "        valid.append(i)\n",
    "    else:\n",
    "        invalid.append(i)"
   ]
  },
  {
   "cell_type": "code",
   "execution_count": null,
   "metadata": {},
   "outputs": [],
   "source": [
    "print(\"len(valid):\", len(valid))\n",
    "print(\"len(invalid):\", len(invalid))"
   ]
  },
  {
   "cell_type": "code",
   "execution_count": null,
   "metadata": {},
   "outputs": [],
   "source": [
    "# >> group valid index by folder\n",
    "by_folder = {}\n",
    "\n",
    "for folder in [d for d in os.listdir(IMDB_PATH) if not os.path.isfile(os.path.join(IMDB_PATH, d))]:\n",
    "    by_folder[folder] = []\n",
    "print(len(by_folder))\n",
    "\n",
    "for vi in valid:\n",
    "    parts = full_path[vi][0].split(\"/\")\n",
    "    if len(parts):\n",
    "        by_folder[parts[0]].append(vi)\n",
    "\n",
    "# print(\"key : # files\")\n",
    "# for key in by_folder.keys():\n",
    "#     print(key, \":\", len(by_folder[key]))\n",
    "\n",
    "folder = 10\n",
    "\n",
    "folder_str = \"%02d\" % (folder)\n",
    "print(\"key : # files\")\n",
    "print(folder_str, \":\", len(by_folder[folder_str]))"
   ]
  },
  {
   "cell_type": "code",
   "execution_count": null,
   "metadata": {},
   "outputs": [],
   "source": [
    "# >> get all person id\n",
    "len_nameid = 7\n",
    "name_ids = []\n",
    "# get nameid from all valid fullpath\n",
    "for vi in valid:\n",
    "    nameid = full_path[vi][0].split(\"/\")[1][2:2+len_nameid]\n",
    "    name_ids.append(int(nameid))\n",
    "name_ids = np.array(name_ids)\n",
    "unique_name_ids = np.unique(name_ids)\n",
    "\n",
    "print(len(unique_name_ids))\n",
    "print(unique_name_ids[:10])\n",
    "print(unique_name_ids[-10:])\n",
    "\n",
    "# np.unique(np.array([1,2,3,3,3,4,5,6,4]))"
   ]
  },
  {
   "cell_type": "code",
   "execution_count": null,
   "metadata": {},
   "outputs": [],
   "source": [
    "#===========================================\n",
    "## *** MORPH-II Cleaning process : age\n",
    "# For each person whose birthdates differed <= 1 year (366 days to account for some leap years)\n",
    "#     calculate mean birthdate\n",
    "#     assign this date to all images\n",
    "#==========================================="
   ]
  },
  {
   "cell_type": "code",
   "execution_count": null,
   "metadata": {},
   "outputs": [],
   "source": [
    "# >> filter by person id\n",
    "# pid = 93 # Brad Pitt\n",
    "pid = 97 # Pamela Anderson\n",
    "# pid = 98 # Jennifer Anniston\n",
    "# pid = 6363555\n",
    "\n",
    "if pid not in unique_name_ids:\n",
    "    print(\"!! Warning !! : unique_name_ids does not contain pid %d\" % pid)\n",
    "\n",
    "filtered = [vi for vi in valid if \"nm%07d_\" % (pid) in full_path[vi][0]]\n",
    "print(\"# images\", delimeter, len(filtered))\n",
    "# print([path[0] for path in full_path[filtered]])\n",
    "\n",
    "f_name = np.array([name[fid][0] for fid in filtered])\n",
    "f_yob = np.array([yob(dob[fid]) for fid in filtered])\n",
    "if len(f_yob) < 20: print(f_yob)\n",
    "# f_yob = np.array([dob[fid] for fid in filtered])\n",
    "\n",
    "mode_result_name = stats.mode(f_name)\n",
    "mode_name = mode_result_name.mode[0]\n",
    "print(\"Name [most frequent]\", delimeter, mode_name)\n",
    "\n",
    "mode_result = stats.mode(f_yob)\n",
    "mode = mode_result.mode[0]\n",
    "\n",
    "# find majority vote\n",
    "if all_equal(f_yob, mode):\n",
    "    major_val = mode\n",
    "    print(\"\\nAll elements equal to Mode = %d\" % (major_val))\n",
    "else:\n",
    "    major_val = f_yob.mean()\n",
    "    print(\"\\nMean = %.2f\" % (major_val))\n",
    "\n",
    "print(\"yob [majority vote]\", delimeter, major_val)"
   ]
  },
  {
   "cell_type": "code",
   "execution_count": null,
   "metadata": {},
   "outputs": [],
   "source": [
    "# # for each unique name id : check if all of yob are equal\n",
    "# yob_major_values = []\n",
    "# use_mode_yob = []\n",
    "\n",
    "# ii = 0\n",
    "# # for pid in unique_name_ids[:20]:\n",
    "# for pid in unique_name_ids:\n",
    "#     filtered = [vi for vi in valid if \"nm%07d_\" % (pid) in full_path[vi][0]]\n",
    "\n",
    "#     f_name = np.array([name[fid][0] for fid in filtered])\n",
    "#     f_yob = np.array([yob(dob[fid]) for fid in filtered])\n",
    "\n",
    "#     mode_result_name = stats.mode(f_name)\n",
    "#     mode_name = mode_result_name.mode[0]\n",
    "# #     print(\"Name [most frequent]\", delimeter, mode_name)\n",
    "\n",
    "#     mode_result = stats.mode(f_yob)\n",
    "#     mode = mode_result.mode[0]\n",
    "\n",
    "#     # find majority vote\n",
    "#     if all_equal(f_yob, mode):\n",
    "#         major_val = mode\n",
    "#         yob_all_equal = True\n",
    "#     else:\n",
    "#         major_val = f_yob.mean()\n",
    "#         yob_all_equal = False\n",
    "#     use_mode_yob.append(yob_all_equal)\n",
    "#     yob_major_values.append(major_val)\n",
    "#     if ii % 50 == 0:\n",
    "#         print(ii)\n",
    "#     ii += 1"
   ]
  },
  {
   "cell_type": "code",
   "execution_count": null,
   "metadata": {},
   "outputs": [],
   "source": [
    "# print(all_equal(np.array(use_mode_yob), True))\n",
    "# print([v for v in use_mode_yob if v])"
   ]
  },
  {
   "cell_type": "markdown",
   "metadata": {},
   "source": [
    "### Show images (simple)"
   ]
  },
  {
   "cell_type": "code",
   "execution_count": null,
   "metadata": {},
   "outputs": [],
   "source": [
    "# raw_index = 1751 #Brad Pitt\n",
    "# raw_index = 3044 # Jennifer Aniston\n",
    "\n",
    "# find raw_index in valid\n",
    "v_ind = valid.index(raw_index)\n",
    "\n",
    "print(\"v_ind:\", v_ind)\n",
    "print(valid[v_ind])"
   ]
  },
  {
   "cell_type": "code",
   "execution_count": null,
   "metadata": {
    "scrolled": true
   },
   "outputs": [],
   "source": [
    "%matplotlib inline\n",
    "\n",
    "direction = +1 # forward\n",
    "# direction = -1 # backward\n",
    "\n",
    "step_size = 1\n",
    "# step_size = 10\n",
    "\n",
    "step = direction*step_size\n",
    "\n",
    "ind = valid[v_ind]\n",
    "print(\"\\t\\tindex\" + delimeter, ind)\n",
    "\n",
    "image = PIL.Image.open(os.path.join(IMDB_PATH, full_path[ind][0]))\n",
    "plt.figure(figsize=(3.7,3.7))\n",
    "plt.imshow(image)\n",
    "\n",
    "if len(name[ind]) == 1:\n",
    "    str_name = name[ind][0]\n",
    "else:\n",
    "    str_name = \"More than 1 face ...\"\n",
    "print(\"name\" + delimeter, str_name, '| ', celeb_names[celeb_id[ind]])\n",
    "\n",
    "## print(celeb_id[ind])\n",
    "## print('\\t', celeb_names[celeb_id[ind]])\n",
    "print(\"taken\" + delimeter, photo_taken[ind])\n",
    "print(\"yob\" + delimeter, yob(dob[ind]))\n",
    "print(\"age\" + delimeter, calc_age(photo_taken[ind], dob[ind]))\n",
    "v_ind = v_ind + step"
   ]
  },
  {
   "cell_type": "code",
   "execution_count": null,
   "metadata": {},
   "outputs": [],
   "source": [
    "print(\"# images:\\t\", v_ind + 1)"
   ]
  },
  {
   "cell_type": "markdown",
   "metadata": {},
   "source": [
    "### Show images"
   ]
  },
  {
   "cell_type": "code",
   "execution_count": null,
   "metadata": {},
   "outputs": [],
   "source": [
    "#use the native Tk backend\n",
    "%matplotlib tk"
   ]
  },
  {
   "cell_type": "code",
   "execution_count": null,
   "metadata": {},
   "outputs": [],
   "source": [
    "import os\n",
    "from utils import *\n",
    "import utils_visualization as uvis\n",
    "import DFInterface as dfi"
   ]
  },
  {
   "cell_type": "code",
   "execution_count": null,
   "metadata": {},
   "outputs": [],
   "source": [
    "image_path = IMDB_PATH\n",
    "print(image_path)"
   ]
  },
  {
   "cell_type": "code",
   "execution_count": null,
   "metadata": {},
   "outputs": [],
   "source": [
    "# only valid images\n",
    "show_filenames = [p[0] for p in full_path[valid]]"
   ]
  },
  {
   "cell_type": "code",
   "execution_count": null,
   "metadata": {},
   "outputs": [],
   "source": [
    "importlib.reload(uvis)"
   ]
  },
  {
   "cell_type": "code",
   "execution_count": null,
   "metadata": {},
   "outputs": [],
   "source": [
    "# start_vind = 3932\n",
    "start_vind = 8191\n",
    "start_index = valid.index(start_vind)\n",
    "print(start_index)\n",
    "\n",
    "(plot_batch_size, columns) = (8, 3)\n",
    "fnit = uvis.FileNameIterator(image_path, show_filenames, plot_batch_size, columns, df, start_index)"
   ]
  },
  {
   "cell_type": "code",
   "execution_count": null,
   "metadata": {},
   "outputs": [],
   "source": []
  }
 ],
 "metadata": {
  "kernelspec": {
   "display_name": "Python 3",
   "language": "python",
   "name": "python3"
  },
  "language_info": {
   "codemirror_mode": {
    "name": "ipython",
    "version": 3
   },
   "file_extension": ".py",
   "mimetype": "text/x-python",
   "name": "python",
   "nbconvert_exporter": "python",
   "pygments_lexer": "ipython3",
   "version": "3.6.8"
  }
 },
 "nbformat": 4,
 "nbformat_minor": 2
}
