{
 "cells": [
  {
   "cell_type": "code",
   "execution_count": null,
   "metadata": {},
   "outputs": [],
   "source": [
    "## code from: annotation_imdb_keras.py\n",
    "\n",
    "from scipy import io as spio\n",
    "from datetime import datetime\n",
    "\n",
    "import numpy as np\n",
    "import os\n",
    "import shutil\n",
    "\n",
    "from utils import get_local_dataset_root_path"
   ]
  },
  {
   "cell_type": "code",
   "execution_count": null,
   "metadata": {},
   "outputs": [],
   "source": [
    "if(os.path.exists(\"./dataset/imdb_crop/\")):\n",
    "    DATASET_ROOT_PATH=\"\"\n",
    "else:\n",
    "    DATASET_ROOT_PATH=get_local_dataset_root_path()\n",
    "\n",
    "OUTPUT_LABEL=\"agegender_imdb\"\n",
    "\n",
    "IMDB_PATH=DATASET_ROOT_PATH+\"dataset/imdb_crop/\""
   ]
  },
  {
   "cell_type": "code",
   "execution_count": null,
   "metadata": {},
   "outputs": [],
   "source": [
    "def calc_age(taken, dob):\n",
    "\tbirth = datetime.fromordinal(max(int(dob) - 366, 1))\n",
    "\tif birth.month < 7:\n",
    "\t\treturn taken - birth.year\n",
    "\telse:\n",
    "\t\treturn taken - birth.year - 1\n",
    "\n",
    "def is_valid(face_score,second_face_score,age,gender):\n",
    "\tif face_score < 1.0:\n",
    "\t\treturn False\n",
    "\tif (~np.isnan(second_face_score)) and second_face_score > 0.0:\n",
    "\t\treturn False\n",
    "\tif ~(0 <= age <= 100):\n",
    "\t\treturn False\n",
    "\tif np.isnan(gender):\n",
    "\t\treturn False\n",
    "\treturn True\n",
    "\n",
    "def get_gender_path(gender):\n",
    "\tif(gender==0.0):\n",
    "\t\treturn \"f\"\n",
    "\treturn \"m\"\n",
    "\n",
    "def get_age_path(age):\n",
    "\tif(age>=0 and age<=3):\n",
    "\t\treturn \"0-2\"\n",
    "\tif(age>=4 and age<=7):\n",
    "\t\treturn \"4-6\"\n",
    "\tif(age>=8 and age<=14):\n",
    "\t\treturn \"8-13\"\n",
    "\tif(age>=15 and age<=24):\n",
    "\t\treturn \"15-20\"\n",
    "\tif(age>=25 and age<=37):\n",
    "\t\treturn \"25-32\"\n",
    "\tif(age>=38 and age<=47):\n",
    "\t\treturn \"38-43\"\n",
    "\tif(age>=48 and age<=59):\n",
    "\t\treturn \"48-53\"\n",
    "\treturn \"60-\""
   ]
  },
  {
   "cell_type": "code",
   "execution_count": null,
   "metadata": {},
   "outputs": [],
   "source": [
    "meta = spio.loadmat(IMDB_PATH+\"imdb.mat\")\n",
    "\n",
    "db = \"imdb\"\n",
    "\n",
    "full_path = meta[db][0, 0][\"full_path\"][0]\n",
    "dob = meta[db][0, 0][\"dob\"][0]\n",
    "gender = meta[db][0, 0][\"gender\"][0]\n",
    "photo_taken = meta[db][0, 0][\"photo_taken\"][0]\n",
    "face_score = meta[db][0, 0][\"face_score\"][0]\n",
    "second_face_score = meta[db][0, 0][\"second_face_score\"][0]\n",
    "age = [calc_age(photo_taken[i], dob[i]) for i in range(len(dob))]"
   ]
  },
  {
   "cell_type": "code",
   "execution_count": null,
   "metadata": {},
   "outputs": [],
   "source": [
    "len(full_path)"
   ]
  },
  {
   "cell_type": "code",
   "execution_count": null,
   "metadata": {},
   "outputs": [],
   "source": [
    "invalid = []\n",
    "for i in range(len(full_path)):\n",
    "    if(not is_valid(face_score[i],second_face_score[i],age[i],gender[i])):\n",
    "        invalid.append(i)"
   ]
  },
  {
   "cell_type": "code",
   "execution_count": null,
   "metadata": {},
   "outputs": [],
   "source": [
    "print(len(invalid))"
   ]
  },
  {
   "cell_type": "code",
   "execution_count": null,
   "metadata": {},
   "outputs": [],
   "source": [
    "print(invalid[:10])"
   ]
  },
  {
   "cell_type": "code",
   "execution_count": null,
   "metadata": {},
   "outputs": [],
   "source": [
    "# indind = 0\n",
    "indind = 9\n",
    "\n",
    "ind = invalid[indind]\n",
    "print(full_path[ind][0])\n",
    "print('%.2f  %.2f  %d  %d' % (face_score[ind], second_face_score[ind], age[ind], gender[ind]))\n",
    "\n",
    "# > from is_valid\n",
    "print(face_score[ind] < 1.0, \n",
    "    ~np.isnan(second_face_score[ind]) and second_face_score[ind] > 0.0, \n",
    "    ~(0 <= age[ind] and age[ind] <= 100), \n",
    "    np.isnan(gender[ind]))\n",
    "\n",
    "print('is_valid:\\t', is_valid(face_score[ind], second_face_score[ind], age[ind], gender[ind]))"
   ]
  },
  {
   "cell_type": "code",
   "execution_count": null,
   "metadata": {},
   "outputs": [],
   "source": []
  }
 ],
 "metadata": {
  "kernelspec": {
   "display_name": "Python 3",
   "language": "python",
   "name": "python3"
  },
  "language_info": {
   "codemirror_mode": {
    "name": "ipython",
    "version": 3
   },
   "file_extension": ".py",
   "mimetype": "text/x-python",
   "name": "python",
   "nbconvert_exporter": "python",
   "pygments_lexer": "ipython3",
   "version": "3.6.8"
  }
 },
 "nbformat": 4,
 "nbformat_minor": 2
}
