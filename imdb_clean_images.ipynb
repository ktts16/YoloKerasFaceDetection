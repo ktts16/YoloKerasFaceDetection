{
 "cells": [
  {
   "cell_type": "code",
   "execution_count": null,
   "metadata": {},
   "outputs": [],
   "source": [
    "import os\n",
    "import numpy as np"
   ]
  },
  {
   "cell_type": "code",
   "execution_count": null,
   "metadata": {},
   "outputs": [],
   "source": [
    "def move_files_to_dir(file_image_ids, dst_folder_name, src_path):\n",
    "    # read image id (with wrong labels)(that you want to move) from txt file np.loadtxt\n",
    "    image_ids = np.loadtxt(file_image_ids, delimiter='\\n', dtype='int')\n",
    "\n",
    "    dst_dir = os.path.join(src_path, dst_folder_name)\n",
    "    if not os.path.exists(dst_dir):\n",
    "        ! mkdir $dst_dir\n",
    "\n",
    "    # move image to dst_dir (destination directory)\n",
    "    image_ext = \"jpg\"\n",
    "    n = 0\n",
    "    for imid in image_ids:\n",
    "        !mv \"$src_path\"/\"$imid\".\"$image_ext\" $dst_dir\n",
    "        n += 1\n",
    "        if n % 500 == 0:\n",
    "            print(n)"
   ]
  },
  {
   "cell_type": "code",
   "execution_count": null,
   "metadata": {},
   "outputs": [],
   "source": [
    "from utils import get_local_dataset_root_path\n",
    "image_root_path = get_local_dataset_root_path() + 'dataset/agegender_imdb/annotations/gender/'\n",
    "\n",
    "# (1) Select subset\n",
    "# subset = 'train_small'\n",
    "subset = 'train'\n",
    "\n",
    "# (2) Select source and destination labels (wrong, actual)\n",
    "src_label, dst_label = ('f', 'm')\n",
    "# src_label, dst_label = ('f', 'not_human')\n",
    "# src_label, dst_label = ('m', 'f')\n",
    "# src_label, dst_label = ('m', 'not_human')\n",
    "\n",
    "print(subset, ':', src_label, '-->', dst_label)\n",
    "\n",
    "src_path = image_root_path + subset + '/' + src_label\n",
    "file_image_ids = \"./dir/\" + subset + \"_\" + src_label + \"_\" + dst_label + \".txt\"\n",
    "dst_folder_name = dst_label\n",
    "\n",
    "move_files_to_dir(file_image_ids, dst_folder_name, src_path)"
   ]
  },
  {
   "cell_type": "markdown",
   "metadata": {},
   "source": [
    "## Individually test each element"
   ]
  },
  {
   "cell_type": "code",
   "execution_count": null,
   "metadata": {},
   "outputs": [],
   "source": [
    "from utils import get_local_dataset_root_path\n",
    "\n",
    "subset = 'train_small'\n",
    "image_path = get_local_dataset_root_path() + 'dataset/agegender_imdb/annotations/gender/' + subset + '/f'\n",
    "\n",
    "file_image_ids = \"./dir/train_small_f_m.txt\"\n",
    "folder_name = \"m\""
   ]
  },
  {
   "cell_type": "code",
   "execution_count": null,
   "metadata": {},
   "outputs": [],
   "source": [
    "# read image id (with wrong labels)(that you want to move) from txt file np.loadtxt\n",
    "image_ids = np.loadtxt(file_image_ids, delimiter='\\n', dtype='int')\n",
    "\n",
    "print(len(image_ids))\n",
    "print(image_ids)"
   ]
  },
  {
   "cell_type": "code",
   "execution_count": null,
   "metadata": {},
   "outputs": [],
   "source": [
    "dst_dir = os.path.join(image_path, folder_name)\n",
    "if not os.path.exists(dst_dir):\n",
    "    ! mkdir $dst_dir\n",
    "\n",
    "print(dst_dir)\n",
    "print(os.path.exists(dst_dir))"
   ]
  },
  {
   "cell_type": "code",
   "execution_count": null,
   "metadata": {},
   "outputs": [],
   "source": [
    "# move image to dst_dir (destination directory)\n",
    "image_ext = \"jpg\"\n",
    "for imid in image_ids:\n",
    "    !mv \"$image_path\"/\"$imid\".\"$image_ext\" $dst_dir"
   ]
  },
  {
   "cell_type": "code",
   "execution_count": null,
   "metadata": {},
   "outputs": [],
   "source": []
  }
 ],
 "metadata": {
  "kernelspec": {
   "display_name": "Python 3",
   "language": "python",
   "name": "python3"
  },
  "language_info": {
   "codemirror_mode": {
    "name": "ipython",
    "version": 3
   },
   "file_extension": ".py",
   "mimetype": "text/x-python",
   "name": "python",
   "nbconvert_exporter": "python",
   "pygments_lexer": "ipython3",
   "version": "3.6.8"
  }
 },
 "nbformat": 4,
 "nbformat_minor": 2
}
