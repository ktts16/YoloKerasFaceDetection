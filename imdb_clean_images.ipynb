{
 "cells": [
  {
   "cell_type": "code",
   "execution_count": null,
   "metadata": {},
   "outputs": [],
   "source": [
    "import os\n",
    "import numpy as np"
   ]
  },
  {
   "cell_type": "code",
   "execution_count": null,
   "metadata": {},
   "outputs": [],
   "source": [
    "subset = 'train_small'\n",
    "image_path = '/home/krittametht/dataset/agegender_imdb/annotations/gender/' + subset + '/f'\n",
    "\n",
    "file_list_image_ids = \"./image_ids_F_wrong_labels.txt\""
   ]
  },
  {
   "cell_type": "code",
   "execution_count": null,
   "metadata": {},
   "outputs": [],
   "source": [
    "# read image id (with wrong labels)(that you want to move) from txt file np.loadtxt\n",
    "image_ids = np.loadtxt(file_list_image_ids, delimiter='\\n', dtype='int')\n",
    "\n",
    "print(len(image_ids))\n",
    "print(image_ids)"
   ]
  },
  {
   "cell_type": "code",
   "execution_count": null,
   "metadata": {},
   "outputs": [],
   "source": [
    "dst_dir = os.path.join(image_path, 'wrong_labels')\n",
    "if not os.path.exists(dst_dir):\n",
    "    ! mkdir $dst_dir\n",
    "\n",
    "print(dst_dir)\n",
    "print(os.path.exists(dst_dir))"
   ]
  },
  {
   "cell_type": "code",
   "execution_count": null,
   "metadata": {},
   "outputs": [],
   "source": [
    "# move image to dst_dir (destination directory)\n",
    "image_ext = \"jpg\"\n",
    "for imid in image_ids:\n",
    "    !mv \"$image_path\"/\"$imid\".\"$image_ext\" $dst_dir"
   ]
  },
  {
   "cell_type": "code",
   "execution_count": null,
   "metadata": {},
   "outputs": [],
   "source": []
  }
 ],
 "metadata": {
  "kernelspec": {
   "display_name": "Python 3",
   "language": "python",
   "name": "python3"
  },
  "language_info": {
   "codemirror_mode": {
    "name": "ipython",
    "version": 3
   },
   "file_extension": ".py",
   "mimetype": "text/x-python",
   "name": "python",
   "nbconvert_exporter": "python",
   "pygments_lexer": "ipython3",
   "version": "3.6.8"
  }
 },
 "nbformat": 4,
 "nbformat_minor": 2
}
