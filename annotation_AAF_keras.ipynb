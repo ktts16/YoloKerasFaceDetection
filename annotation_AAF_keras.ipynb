{
 "cells": [
  {
   "cell_type": "code",
   "execution_count": null,
   "metadata": {},
   "outputs": [],
   "source": [
    "from utils import get_local_dataset_root_path\n",
    "\n",
    "DATASET_ROOT_PATH=get_local_dataset_root_path()\n",
    "print(DATASET_ROOT_PATH)\n",
    "\n",
    "# OUTPUT_LABEL=\"agegender_aaf\"\n",
    "OUTPUT_LABEL=\"agegender_aaf_mtcnn\"\n",
    "\n",
    "# SRC_PATH=DATASET_ROOT_PATH+\"dataset/All-Age-Faces Dataset/aligned faces/\" #** AAF **\n",
    "SRC_PATH=DATASET_ROOT_PATH+\"dataset/All-Age-Faces Dataset/original images__crop_m-4/\"\n",
    "GENDER_PATH=DATASET_ROOT_PATH+\"dataset/\"+OUTPUT_LABEL+\"/annotations/gender/\"\n",
    "AGE101_PATH=DATASET_ROOT_PATH+\"dataset/\"+OUTPUT_LABEL+\"/annotations/age101/\""
   ]
  },
  {
   "cell_type": "markdown",
   "metadata": {},
   "source": [
    "### Create directories"
   ]
  },
  {
   "cell_type": "code",
   "execution_count": null,
   "metadata": {},
   "outputs": [],
   "source": [
    "import os\n",
    "import shutil\n",
    "from utils import create_subfolders_by_classes, print_list"
   ]
  },
  {
   "cell_type": "code",
   "execution_count": null,
   "metadata": {},
   "outputs": [],
   "source": [
    "if(not os.path.exists(DATASET_ROOT_PATH+\"dataset/\"+OUTPUT_LABEL+\"/\")):\n",
    "    os.mkdir(DATASET_ROOT_PATH+\"dataset/\"+OUTPUT_LABEL)\n",
    "\n",
    "if(not os.path.exists(DATASET_ROOT_PATH+\"dataset/\"+OUTPUT_LABEL+\"/annotations/\")):\n",
    "    os.mkdir(DATASET_ROOT_PATH+\"dataset/\"+OUTPUT_LABEL+\"/annotations\")\n",
    "    \n",
    "create_subfolders_by_classes(GENDER_PATH, \\\n",
    "                             classes='gender', \\\n",
    "                             subsets=['all'])\n",
    "create_subfolders_by_classes(AGE101_PATH, \\\n",
    "                             classes='age', \\\n",
    "                             subsets=['all'])"
   ]
  },
  {
   "cell_type": "code",
   "execution_count": null,
   "metadata": {},
   "outputs": [],
   "source": [
    "def aaf_get_gender_path(filename):\n",
    "    serial_no_str = filename[:5]\n",
    "    serial_no = int(serial_no_str)\n",
    "    if serial_no <= 7380: # 00000 to 07380\n",
    "        return 'f'\n",
    "    else: # 07381 to 13321\n",
    "        return 'm'\n",
    "\n",
    "def aaf_get_age101_path(filename):\n",
    "    parts = filename.split('A')\n",
    "    age101_str = parts[1].split('.')[0]\n",
    "    return int(age101_str)"
   ]
  },
  {
   "cell_type": "code",
   "execution_count": null,
   "metadata": {},
   "outputs": [],
   "source": [
    "image_files = os.listdir(SRC_PATH)\n",
    "image_files.sort()\n",
    "print_list(image_files)"
   ]
  },
  {
   "cell_type": "code",
   "execution_count": null,
   "metadata": {},
   "outputs": [],
   "source": [
    "verbose = False\n",
    "for i in range(len(image_files)):\n",
    "    subset=\"all\"\n",
    "    src_img = os.path.join(SRC_PATH, image_files[i])\n",
    "    label_gender = aaf_get_gender_path(image_files[i])\n",
    "    label_age101 = \"%03d\" % aaf_get_age101_path(image_files[i])\n",
    "    if verbose:\n",
    "        print(\"{}\\n{} {}\".format(src_img, label_gender, label_age101))\n",
    "    shutil.copyfile(src_img, GENDER_PATH+subset+\"/\"+label_gender+\"/\"+str(i)+\".jpg\")\n",
    "    shutil.copyfile(src_img, AGE101_PATH+subset+\"/\"+label_age101+\"/\"+str(i)+\".jpg\")\n",
    "    if i % 1000 == 0:\n",
    "        print(i, end='\\n' if i%10000==0 else '   ')"
   ]
  },
  {
   "cell_type": "code",
   "execution_count": null,
   "metadata": {},
   "outputs": [],
   "source": []
  }
 ],
 "metadata": {
  "kernelspec": {
   "display_name": "Python 3",
   "language": "python",
   "name": "python3"
  },
  "language_info": {
   "codemirror_mode": {
    "name": "ipython",
    "version": 3
   },
   "file_extension": ".py",
   "mimetype": "text/x-python",
   "name": "python",
   "nbconvert_exporter": "python",
   "pygments_lexer": "ipython3",
   "version": "3.6.8"
  }
 },
 "nbformat": 4,
 "nbformat_minor": 2
}
